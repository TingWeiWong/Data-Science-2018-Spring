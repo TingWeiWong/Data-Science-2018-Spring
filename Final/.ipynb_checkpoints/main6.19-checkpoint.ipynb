{
 "cells": [
  {
   "cell_type": "code",
   "execution_count": 1,
   "metadata": {},
   "outputs": [
    {
     "name": "stderr",
     "output_type": "stream",
     "text": [
      "Using TensorFlow backend.\n"
     ]
    }
   ],
   "source": [
    "%matplotlib inline\n",
    "import numpy as np\n",
    "import matplotlib.pyplot as plt\n",
    "from PIL import Image\n",
    "import os\n",
    "from sklearn.model_selection import StratifiedShuffleSplit\n",
    "\n",
    "import tensorflow as tf\n",
    "config = tf.ConfigProto(log_device_placement = True)\n",
    "config.gpu_options.allow_growth = True\n",
    "tf.Session(config = config)\n",
    "\n",
    "from keras.utils import to_categorical\n",
    "from keras.datasets import fashion_mnist\n",
    "from keras.models import Model,Sequential\n",
    "from keras.optimizers import SGD, RMSprop, Adagrad, Adadelta, Adam, Adamax, Nadam\n",
    "from keras.layers import Embedding, Input, Conv1D, MaxPooling1D, MaxPooling2D, LSTM, Flatten, Dense, Dropout, Reshape, Bidirectional, Conv2D, MaxPool2D, Concatenate, Activation"
   ]
  },
  {
   "cell_type": "code",
   "execution_count": 7,
   "metadata": {},
   "outputs": [
    {
     "data": {
      "text/plain": [
       "'def load_data(one_hot=True, val=0.0):\\n    import scipy.io as scio\\n    def load_data_pGoodfellow, I., et al.\\xc2\\xa0Multi-digit Number Recognition from Street View Imagery using Deep Convolutional Neural Networks.\\xc2\\xa0ICLR, 2014art(f, one_hot=one_hot, num=1.0):\\n        if num == 0:\\n            return None, None\\n        \\n        data = scio.loadmat(f)\\n        l = data[\"X\"].shape[3]\\n        r = int(l*num)\\n        data[\"X\"] = np.array([data[\"X\"][:,:,:,x] for x in range(l)][:r])\\n        if one_hot:\\n            data[\"y\"] = to_categorical(data[\\'y\\'][:r], num_classes=11)[:,1:]\\n        return data[\"X\"], data[\"y\"]\\n    \\n    X_train, y_train = load_data_part(\\'train_32x32.mat\\')\\n    X_val, y_val = load_data_part(\\'test_32x32.mat\\')\\n    if val!=0.0:\\n        X_test, y_test = load_data_part(\\'extra_32x32.mat\\', num=val)\\n        return X_train, y_train, X_val, y_val, X_test, y_test\\n    \\n    return X_train, y_train, X_val, y_val, None, None'"
      ]
     },
     "execution_count": 7,
     "metadata": {},
     "output_type": "execute_result"
    }
   ],
   "source": [
    "#just to print a summary of a variable\n",
    "'''def simple_show(a):\n",
    "    print (\"type:\", type(a))\n",
    "    try:\n",
    "        print (\"len:\", len(a))\n",
    "    except TypeError:\n",
    "        print (\"no length\")\n",
    "    try:\n",
    "        print (a[0])\n",
    "    except TypeError:\n",
    "        print (\"no indexing\")\n",
    "    print (a)\n",
    "'''\n",
    "#extract data from train/test/extra.tar.gz\n",
    "def extract(filename):\n",
    "    import tarfile as tar\n",
    "    try:\n",
    "        with tar.open(filename, \"r:gz\") as f:\n",
    "            f.extractall()\n",
    "    except TypeError:\n",
    "        raise TypeError(\"file doesn't exist or is not tarfile.\")\n",
    "\n",
    "\"\"\"\n",
    "load_data(one_hot=True, val=0.0):\n",
    "    To get train, test, val data.\n",
    "    return X_train, y_train, X_test, y_test(, X_val, y_val)\n",
    "    \n",
    "    one_hot:If True, return y in categorical type\n",
    "    val:the data rate of extra data\n",
    "    \n",
    "    \n",
    "\"\"\"\n",
    "'''def load_data(one_hot=True, val=0.0):\n",
    "    import scipy.io as scio\n",
    "    def load_data_pGoodfellow, I., et al. Multi-digit Number Recognition from Street View Imagery using Deep Convolutional Neural Networks. ICLR, 2014art(f, one_hot=one_hot, num=1.0):\n",
    "        if num == 0:\n",
    "            return None, None\n",
    "        \n",
    "        data = scio.loadmat(f)\n",
    "        l = data[\"X\"].shape[3]\n",
    "        r = int(l*num)\n",
    "        data[\"X\"] = np.array([data[\"X\"][:,:,:,x] for x in range(l)][:r])\n",
    "        if one_hot:\n",
    "            data[\"y\"] = to_categorical(data['y'][:r], num_classes=11)[:,1:]\n",
    "        return data[\"X\"], data[\"y\"]\n",
    "    \n",
    "    X_train, y_train = load_data_part('train_32x32.mat')\n",
    "    X_val, y_val = load_data_part('test_32x32.mat')\n",
    "    if val!=0.0:\n",
    "        X_test, y_test = load_data_part('extra_32x32.mat', num=val)\n",
    "        return X_train, y_train, X_val, y_val, X_test, y_test\n",
    "    \n",
    "    return X_train, y_train, X_val, y_val, None, None'''"
   ]
  },
  {
   "cell_type": "code",
   "execution_count": 4,
   "metadata": {},
   "outputs": [
    {
     "ename": "IOError",
     "evalue": "[Errno 2] No such file or directory: '.\\\\train\\\\1.png'",
     "output_type": "error",
     "traceback": [
      "\u001b[0;31m---------------------------------------------------------------------------\u001b[0m",
      "\u001b[0;31mIOError\u001b[0m                                   Traceback (most recent call last)",
      "\u001b[0;32m<ipython-input-4-4c6f1851c7e6>\u001b[0m in \u001b[0;36m<module>\u001b[0;34m()\u001b[0m\n\u001b[1;32m      1\u001b[0m \u001b[0;34m\u001b[0m\u001b[0m\n\u001b[1;32m      2\u001b[0m \u001b[0;31m#original data present\u001b[0m\u001b[0;34m\u001b[0m\u001b[0;34m\u001b[0m\u001b[0m\n\u001b[0;32m----> 3\u001b[0;31m \u001b[0mim\u001b[0m \u001b[0;34m=\u001b[0m \u001b[0mImage\u001b[0m\u001b[0;34m.\u001b[0m\u001b[0mopen\u001b[0m\u001b[0;34m(\u001b[0m\u001b[0;34m\".\\\\train\\\\1.png\"\u001b[0m\u001b[0;34m)\u001b[0m\u001b[0;34m\u001b[0m\u001b[0m\n\u001b[0m\u001b[1;32m      4\u001b[0m \u001b[0mim\u001b[0m\u001b[0;34m\u001b[0m\u001b[0m\n",
      "\u001b[0;32m/Library/Frameworks/Python.framework/Versions/2.7/lib/python2.7/site-packages/PIL/Image.pyc\u001b[0m in \u001b[0;36mopen\u001b[0;34m(fp, mode)\u001b[0m\n\u001b[1;32m   2528\u001b[0m \u001b[0;34m\u001b[0m\u001b[0m\n\u001b[1;32m   2529\u001b[0m     \u001b[0;32mif\u001b[0m \u001b[0mfilename\u001b[0m\u001b[0;34m:\u001b[0m\u001b[0;34m\u001b[0m\u001b[0m\n\u001b[0;32m-> 2530\u001b[0;31m         \u001b[0mfp\u001b[0m \u001b[0;34m=\u001b[0m \u001b[0mbuiltins\u001b[0m\u001b[0;34m.\u001b[0m\u001b[0mopen\u001b[0m\u001b[0;34m(\u001b[0m\u001b[0mfilename\u001b[0m\u001b[0;34m,\u001b[0m \u001b[0;34m\"rb\"\u001b[0m\u001b[0;34m)\u001b[0m\u001b[0;34m\u001b[0m\u001b[0m\n\u001b[0m\u001b[1;32m   2531\u001b[0m         \u001b[0mexclusive_fp\u001b[0m \u001b[0;34m=\u001b[0m \u001b[0mTrue\u001b[0m\u001b[0;34m\u001b[0m\u001b[0m\n\u001b[1;32m   2532\u001b[0m \u001b[0;34m\u001b[0m\u001b[0m\n",
      "\u001b[0;31mIOError\u001b[0m: [Errno 2] No such file or directory: '.\\\\train\\\\1.png'"
     ]
    }
   ],
   "source": [
    "\n",
    "#original data present\n",
    "im = Image.open(\".\\\\train\\\\1.png\")\n",
    "im"
   ]
  },
  {
   "cell_type": "code",
   "execution_count": 19,
   "metadata": {
    "collapsed": true
   },
   "outputs": [],
   "source": [
    "X_train, y_train, X_val, y_val, X_test, y_test = load_data(val=0.0)"
   ]
  },
  {
   "cell_type": "code",
   "execution_count": 21,
   "metadata": {},
   "outputs": [
    {
     "data": {
      "text/plain": [
       "<matplotlib.image.AxesImage at 0x22f0b9810b8>"
      ]
     },
     "execution_count": 21,
     "metadata": {},
     "output_type": "execute_result"
    },
    {
     "data": {
      "image/png": "[encoded data removed]",
      "text/plain": [
       "<matplotlib.figure.Figure at 0x22f0a3a6748>"
      ]
     },
     "metadata": {},
     "output_type": "display_data"
    }
   ],
   "source": [
    "plt.imshow(X_train[0])"
   ]
  },
  {
   "cell_type": "code",
   "execution_count": 22,
   "metadata": {},
   "outputs": [
    {
     "name": "stdout",
     "output_type": "stream",
     "text": [
      "_________________________________________________________________\n",
      "Layer (type)                 Output Shape              Param #   \n",
      "=================================================================\n",
      "conv2d_3 (Conv2D)            (None, 29, 29, 10)        490       \n",
      "_________________________________________________________________\n",
      "max_pooling2d_3 (MaxPooling2 (None, 14, 14, 10)        0         \n",
      "_________________________________________________________________\n",
      "flatten_3 (Flatten)          (None, 1960)              0         \n",
      "_________________________________________________________________\n",
      "dropout_7 (Dropout)          (None, 1960)              0         \n",
      "_________________________________________________________________\n",
      "dense_7 (Dense)              (None, 32)                62752     \n",
      "_________________________________________________________________\n",
      "dropout_8 (Dropout)          (None, 32)                0         \n",
      "_________________________________________________________________\n",
      "dense_8 (Dense)              (None, 16)                528       \n",
      "_________________________________________________________________\n",
      "dropout_9 (Dropout)          (None, 16)                0         \n",
      "_________________________________________________________________\n",
      "dense_9 (Dense)              (None, 10)                170       \n",
      "=================================================================\n",
      "Total params: 63,940\n",
      "Trainable params: 63,940\n",
      "Non-trainable params: 0\n",
      "_________________________________________________________________\n",
      "Train on 73257 samples, validate on 26032 samples\n",
      "Epoch 1/3\n",
      "73257/73257 [==============================] - 40s 547us/step - loss: 1.4957 - acc: 0.4926 - val_loss: 1.1368 - val_acc: 0.6607\n",
      "Epoch 2/3\n",
      "73257/73257 [==============================] - 39s 535us/step - loss: 0.9931 - acc: 0.6943 - val_loss: 0.8805 - val_acc: 0.7472\n",
      "Epoch 3/3\n",
      "73257/73257 [==============================] - 39s 529us/step - loss: 0.8974 - acc: 0.7277 - val_loss: 0.8219 - val_acc: 0.7653\n"
     ]
    },
    {
     "data": {
      "image/png": "[encoded data removed]",
      "text/plain": [
       "<matplotlib.figure.Figure at 0x22f00975208>"
      ]
     },
     "metadata": {},
     "output_type": "display_data"
    },
    {
     "name": "stdout",
     "output_type": "stream",
     "text": [
      "test_accuracy: 0.746120159803319\n"
     ]
    }
   ],
   "source": [
    "#model build compile and fit\n",
    "model1 = Sequential([Conv2D(filters = 10, kernel_size = 4, kernel_initializer='uniform', input_shape = (32,32,3), activation='relu'),\n",
    "                     MaxPooling2D((2,2)),\n",
    "                     Flatten(),\n",
    "                     Dropout(0.1),\n",
    "                     Dense(32, activation = \"relu\"),\n",
    "                     Dropout(0.1),\n",
    "                     Dense(16, activation = \"relu\"),\n",
    "                     Dropout(0.1),\n",
    "                     Dense(10, kernel_initializer='uniform', activation = 'softmax')])\n",
    "\n",
    "optimizer = RMSprop()#lr=0.05, decay=1e-6, momentum=0.95, nesterov=True)\n",
    "model1.compile(optimizer = optimizer, \n",
    "              loss = 'categorical_crossentropy', \n",
    "              metrics = ['accuracy'])\n",
    "\n",
    "model1.summary()\n",
    "history = model1.fit(X_train,\n",
    "                    y_train, \n",
    "                    epochs = 3, \n",
    "                    batch_size = 64, \n",
    "                    validation_data = (X_val, y_val),\n",
    "                    verbose=1)\n",
    "try:\n",
    "    test_acc = model1.evaluate(X_test, y_test, verbose=0)[1]\n",
    "except:\n",
    "    pass\n",
    "\n",
    "acc = history.history['acc']\n",
    "val_acc = history.history['val_acc']\n",
    "\n",
    "epochs = range(1, len(acc) + 1)\n",
    "\n",
    "plt.plot(epochs, acc, '-o', label = 'Training accuracy')\n",
    "plt.plot(epochs, val_acc, '-ro', label = 'Validation accuracy')\n",
    "plt.title('Training and validation accuracy')\n",
    "plt.xlabel('Epochs')\n",
    "plt.ylabel('Accuracy')\n",
    "plt.legend()\n",
    "plt.show()\n",
    "\n",
    "try:\n",
    "    print('test_accuracy:', test_acc)\n",
    "except:\n",
    "    pass"
   ]
  },
  {
   "cell_type": "code",
   "execution_count": 9,
   "metadata": {},
   "outputs": [
    {
     "name": "stdout",
     "output_type": "stream",
     "text": [
      "Train on 73257 samples, validate on 5311 samples\n",
      "Epoch 1/7\n",
      "73257/73257 [==============================] - 28s 382us/step - loss: 0.8144 - acc: 0.7572 - val_loss: 0.5684 - val_acc: 0.8407\n",
      "Epoch 2/7\n",
      "73257/73257 [==============================] - 28s 376us/step - loss: 0.7845 - acc: 0.7698 - val_loss: 0.5176 - val_acc: 0.8522\n",
      "Epoch 3/7\n",
      "73257/73257 [==============================] - 28s 380us/step - loss: 0.7595 - acc: 0.7764 - val_loss: 0.4600 - val_acc: 0.8725\n",
      "Epoch 4/7\n",
      "73257/73257 [==============================] - 28s 387us/step - loss: 0.7451 - acc: 0.7822 - val_loss: 0.5228 - val_acc: 0.8433\n",
      "Epoch 5/7\n",
      "73257/73257 [==============================] - 28s 376us/step - loss: 0.7324 - acc: 0.7843 - val_loss: 0.4397 - val_acc: 0.8789\n",
      "Epoch 6/7\n",
      "73257/73257 [==============================] - 27s 372us/step - loss: 0.7181 - acc: 0.7901 - val_loss: 0.4629 - val_acc: 0.8682\n",
      "Epoch 7/7\n",
      "73257/73257 [==============================] - 28s 375us/step - loss: 0.7144 - acc: 0.7899 - val_loss: 0.5273 - val_acc: 0.8545\n"
     ]
    },
    {
     "data": {
      "image/png": "[encoded data removed]",
      "text/plain": [
       "<matplotlib.figure.Figure at 0x22f07efaf60>"
      ]
     },
     "metadata": {},
     "output_type": "display_data"
    },
    {
     "name": "stdout",
     "output_type": "stream",
     "text": [
      "test_accuracy: 0.746120159803319\n"
     ]
    }
   ],
   "source": [
    "history = model1.fit(X_train,\n",
    "                    y_train, \n",
    "                    epochs = 7, \n",
    "                    batch_size = 64, \n",
    "                    validation_data = (X_val, y_val),\n",
    "                    verbose=1)\n",
    "\n",
    "test_acc = model1.evaluate(X_test, y_test, verbose=0)[1]\n",
    "acc = history.history['acc']\n",
    "val_acc = history.history['val_acc']\n",
    "\n",
    "epochs = range(1, len(acc) + 1)\n",
    "\n",
    "plt.plot(epochs, acc, '-o', label = 'Training accuracy')\n",
    "plt.plot(epochs, val_acc, '-ro', label = 'Validation accuracy')\n",
    "plt.title('Training and validation accuracy')\n",
    "plt.xlabel('Epochs')\n",
    "plt.ylabel('Accuracy')\n",
    "plt.legend()\n",
    "plt.show()\n",
    "print('test_accuracy:', test_acc)"
   ]
  },
  {
   "cell_type": "code",
   "execution_count": null,
   "metadata": {
    "collapsed": true
   },
   "outputs": [],
   "source": []
  }
 ],
 "metadata": {
  "kernelspec": {
   "display_name": "Python 2",
   "language": "python",
   "name": "python2"
  },
  "language_info": {
   "codemirror_mode": {
    "name": "ipython",
    "version": 2
   },
   "file_extension": ".py",
   "mimetype": "text/x-python",
   "name": "python",
   "nbconvert_exporter": "python",
   "pygments_lexer": "ipython2",
   "version": "2.7.14"
  }
 },
 "nbformat": 4,
 "nbformat_minor": 2
}
