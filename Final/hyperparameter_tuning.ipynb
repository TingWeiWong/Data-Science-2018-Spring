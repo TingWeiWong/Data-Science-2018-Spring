{
 "cells": [
  {
   "cell_type": "code",
   "execution_count": 1,
   "metadata": {},
   "outputs": [
    {
     "name": "stderr",
     "output_type": "stream",
     "text": [
      "Using TensorFlow backend.\n"
     ]
    }
   ],
   "source": [
    "import time\n",
    "\n",
    "import tensorflow as tf\n",
    "config = tf.ConfigProto()\n",
    "config.gpu_options.allow_growth = True\n",
    "sess = tf.Session(config = config)\n",
    "\n",
    "from keras.datasets import fashion_mnist\n",
    "from sklearn.model_selection import StratifiedShuffleSplit\n",
    "import matplotlib.pyplot as plt\n",
    "import numpy as np\n",
    "# fix random seed for reproducibility\n",
    "seed = 123\n",
    "np.random.seed(seed)\n",
    "\n",
    "from keras.wrappers.scikit_learn import KerasClassifier\n",
    "from keras.models import Sequential\n",
    "from keras.layers import Dense\n",
    "\n",
    "from sklearn.model_selection import GridSearchCV"
   ]
  },
  {
   "cell_type": "code",
   "execution_count": 2,
   "metadata": {},
   "outputs": [
    {
     "name": "stdout",
     "output_type": "stream",
     "text": [
      "X_train original shape (30000, 784)\n",
      "y_train original shape (30000,)\n",
      "X_val original shape (30000, 784)\n",
      "y_val original shape (30000,)\n",
      "X_test original shape (10000, 784)\n",
      "y_test original shape (10000,)\n",
      "class\tcount\n",
      "0\t3000\n",
      "1\t3000\n",
      "2\t3000\n",
      "3\t3000\n",
      "4\t3000\n",
      "5\t3000\n",
      "6\t3000\n",
      "7\t3000\n",
      "8\t3000\n",
      "9\t3000\n"
     ]
    }
   ],
   "source": [
    "nb_classes = 10\n",
    "class_names = ['T-shirt/top', 'Trouser', 'Pullover', 'Dress', 'Coat', 'Sandal', 'Shirt', 'Sneaker', 'Bag', 'Ankle boot']\n",
    "(X_train, y_train), (X_test, y_test) = fashion_mnist.load_data()\n",
    "\n",
    "X_train = X_train.reshape((X_train.shape[0], -1))\n",
    "X_test = X_test.reshape((X_test.shape[0], -1))\n",
    "\n",
    "# normalization\n",
    "X_train = X_train / 255.\n",
    "X_test = X_test / 255.\n",
    "\n",
    "X = np.array(X_train)\n",
    "y = np.array(y_train)\n",
    "    \n",
    "# split train and validation\n",
    "sss = StratifiedShuffleSplit(n_splits = 10, test_size = 0.5, random_state = 0)\n",
    "for train_idx, val_idx in sss.split(X_train, y_train):\n",
    "    X_train, X_val = X[train_idx], X[val_idx]\n",
    "    y_train, y_val = y[train_idx], y[val_idx]\n",
    "\n",
    "print(\"X_train original shape {}\".format(X_train.shape))\n",
    "print(\"y_train original shape {}\".format(y_train.shape))\n",
    "print(\"X_val original shape {}\".format(X_val.shape))\n",
    "print(\"y_val original shape {}\".format(y_val.shape))\n",
    "print(\"X_test original shape {}\".format(X_test.shape))\n",
    "print(\"y_test original shape {}\".format(y_test.shape))\n",
    "\n",
    "for i in range(9):\n",
    "    plt.subplot(3, 3, i + 1)\n",
    "    plt.imshow(X_train[i].reshape((28, 28)), cmap = 'gray', interpolation = 'none')\n",
    "    plt.title(\"Class {}\".format(class_names[y_train[i]]))\n",
    "plt.tight_layout()\n",
    "\n",
    "unique, count = np.unique(y_train, return_counts = True)\n",
    "cls_count = np.concatenate((unique.reshape(nb_classes, 1), count.reshape(nb_classes, 1)), axis = 1)\n",
    "print('class\\tcount')\n",
    "print('\\n'.join(['{}\\t{}'.format(item[0], item[1]) for item in cls_count]))"
   ]
  },
  {
   "cell_type": "markdown",
   "metadata": {},
   "source": [
    "# Neural network"
   ]
  },
  {
   "cell_type": "code",
   "execution_count": 3,
   "metadata": {
    "collapsed": true
   },
   "outputs": [],
   "source": [
    "def create_model(hidden_layers = [128, 64, 32], \n",
    "                 activations = ['relu', 'relu', 'relu', 'softmax'], \n",
    "                 weight_initialization = 'he_normal', \n",
    "                 learning_rate = 1e-5,\n",
    "                 loss = 'categorical_crossentropy',\n",
    "                 optimizer = 'adam', \n",
    "                 metrics = ['accuracy']):\n",
    "    model = Sequential()\n",
    "    model.add(Dense(hidden_layers[0], input_shape = (784,), activation = activations[0], kernel_initializer = weight_initialization))\n",
    "    for i in range(1, len(hidden_layers) - 1):\n",
    "        model.add(Dense(hidden_layers[i], activation = activations[i], kernel_initializer = weight_initialization))\n",
    "    model.add(Dense(10, activation = activations[-1]))\n",
    "    model.compile(loss = loss, optimizer = optimizer, metrics = metrics)\n",
    "    return model"
   ]
  },
  {
   "cell_type": "markdown",
   "metadata": {},
   "source": [
    "# Tune learning rate"
   ]
  },
  {
   "cell_type": "code",
   "execution_count": null,
   "metadata": {},
   "outputs": [
    {
     "name": "stdout",
     "output_type": "stream",
     "text": [
      "Fitting 3 folds for each of 5 candidates, totalling 15 fits\n",
      "[CV] learning_rate=0.01 ..............................................\n",
      "[CV] .................. learning_rate=0.01, score=0.874, total=  21.4s\n",
      "[Parallel(n_jobs=1)]: Done   1 out of   1 | elapsed:   22.3s remaining:    0.0s\n",
      "[CV] learning_rate=0.01 ..............................................\n",
      "[CV] .................. learning_rate=0.01, score=0.873, total=  24.6s\n",
      "[Parallel(n_jobs=1)]: Done   2 out of   2 | elapsed:   47.5s remaining:    0.0s\n",
      "[CV] learning_rate=0.01 ..............................................\n",
      "[CV] ................. learning_rate=0.01, score=0.8575, total=  20.7s\n",
      "[Parallel(n_jobs=1)]: Done   3 out of   3 | elapsed:  1.1min remaining:    0.0s\n",
      "[CV] learning_rate=0.001 .............................................\n",
      "[CV] ................ learning_rate=0.001, score=0.8671, total=  20.8s\n",
      "[Parallel(n_jobs=1)]: Done   4 out of   4 | elapsed:  1.5min remaining:    0.0s\n",
      "[CV] learning_rate=0.001 .............................................\n"
     ]
    }
   ],
   "source": [
    "learning_rates = [1e-2, 1e-3, 1e-4, 1e-5, 1e-6]\n",
    "\n",
    "model = KerasClassifier(build_fn = create_model, batch_size = None, epochs = 10, verbose = 0)\n",
    "\n",
    "param_grid = dict(learning_rate = learning_rates)\n",
    "\n",
    "grid = GridSearchCV(estimator = model, param_grid = param_grid, n_jobs = 1, verbose = 50)\n",
    "grid_result = grid.fit(X_train, y_train)\n",
    "\n",
    "# result summary\n",
    "print('Best result: %f using %s' % (grid_result.best_score_, grid_result.best_params_))\n",
    "for mean, stdev, param in zip(grid_result.cv_results_['mean_test_score'], \n",
    "                              grid_result.cv_results_['std_test_score'], \n",
    "                              grid_result.cv_results_['params']):\n",
    "    print('%f (%f) with: %r' % (mean, stdev, param))"
   ]
  },
  {
   "cell_type": "markdown",
   "metadata": {},
   "source": [
    "# Tune activation function"
   ]
  },
  {
   "cell_type": "code",
   "execution_count": null,
   "metadata": {
    "collapsed": true
   },
   "outputs": [],
   "source": [
    "activations = [\n",
    "    ['elu', 'elu', 'elu', 'softmax'],\n",
    "    ['selu', 'selu', 'selu', 'softmax'],\n",
    "    ['relu', 'relu', 'relu', 'softmax'],\n",
    "    #['tanh', 'tanh', 'tanh', 'softmax'],\n",
    "    ['sigmoid', 'sigmoid', 'sigmoid', 'softmax'],\n",
    "    ['linear', 'linear', 'linear', 'softmax']\n",
    "]\n",
    "\n",
    "model = KerasClassifier(build_fn = create_model, batch_size = None, epochs = 10, verbose = 0)\n",
    "\n",
    "param_grid = dict(activations = activations)\n",
    "\n",
    "grid = GridSearchCV(estimator = model, param_grid = param_grid, n_jobs = 1, verbose = 50)\n",
    "grid_result = grid.fit(X_train, y_train)\n",
    "\n",
    "# result summary\n",
    "print('Best result: %f using %s' % (grid_result.best_score_, grid_result.best_params_))\n",
    "for mean, stdev, param in zip(grid_result.cv_results_['mean_test_score'], \n",
    "                              grid_result.cv_results_['std_test_score'], \n",
    "                              grid_result.cv_results_['params']):\n",
    "    print('%f (%f) with: %r' % (mean, stdev, param))"
   ]
  },
  {
   "cell_type": "markdown",
   "metadata": {},
   "source": [
    "# Tune batch size"
   ]
  },
  {
   "cell_type": "code",
   "execution_count": null,
   "metadata": {
    "collapsed": true
   },
   "outputs": [],
   "source": [
    "batch_sizes = [16, 32, 64, 128, 256]\n",
    "number_of_epochs = 10\n",
    "training_optimization_algorithms = 'sgd'\n",
    "# momentums = []\n",
    "weight_initializations = 'uniform'\n",
    "\n",
    "model = KerasClassifier(build_fn = create_model, batch_size = None, epochs = 10, verbose = 0)\n",
    "\n",
    "param_grid = dict(batch_size = batch_sizes)\n",
    "\n",
    "grid = GridSearchCV(estimator = model, param_grid = param_grid, n_jobs = 1, verbose = 50)\n",
    "grid_result = grid.fit(X_train, y_train)\n",
    "\n",
    "# result summary\n",
    "print('Best result: %f using %s' % (grid_result.best_score_, grid_result.best_params_))\n",
    "for mean, stdev, param in zip(grid_result.cv_results_['mean_test_score'], \n",
    "                              grid_result.cv_results_['std_test_score'], \n",
    "                              grid_result.cv_results_['params']):\n",
    "    print('%f (%f) with: %r' % (mean, stdev, param))"
   ]
  },
  {
   "cell_type": "markdown",
   "metadata": {},
   "source": [
    "# Tune number of epoch"
   ]
  },
  {
   "cell_type": "code",
   "execution_count": 12,
   "metadata": {},
   "outputs": [
    {
     "name": "stdout",
     "output_type": "stream",
     "text": [
      "Fitting 3 folds for each of 5 candidates, totalling 15 fits\n",
      "[CV] epochs=10 .......................................................\n",
      "[CV] .......................... epochs=10, score=0.8794, total=  24.5s\n",
      "[Parallel(n_jobs=1)]: Done   1 out of   1 | elapsed:   25.4s remaining:    0.0s\n",
      "[CV] epochs=10 .......................................................\n",
      "[CV] .......................... epochs=10, score=0.8752, total=  25.1s\n",
      "[Parallel(n_jobs=1)]: Done   2 out of   2 | elapsed:   51.4s remaining:    0.0s\n",
      "[CV] epochs=10 .......................................................\n",
      "[CV] .......................... epochs=10, score=0.8702, total=  23.9s\n",
      "[Parallel(n_jobs=1)]: Done   3 out of   3 | elapsed:  1.3min remaining:    0.0s\n",
      "[CV] epochs=20 .......................................................\n",
      "[CV] .......................... epochs=20, score=0.8753, total=  45.2s\n",
      "[Parallel(n_jobs=1)]: Done   4 out of   4 | elapsed:  2.0min remaining:    0.0s\n",
      "[CV] epochs=20 .......................................................\n",
      "[CV] .......................... epochs=20, score=0.8799, total=  44.7s\n",
      "[Parallel(n_jobs=1)]: Done   5 out of   5 | elapsed:  2.8min remaining:    0.0s\n",
      "[CV] epochs=20 .......................................................\n",
      "[CV] .......................... epochs=20, score=0.8649, total=  48.3s\n",
      "[Parallel(n_jobs=1)]: Done   6 out of   6 | elapsed:  3.6min remaining:    0.0s\n",
      "[CV] epochs=30 .......................................................\n",
      "[CV] .......................... epochs=30, score=0.8779, total= 1.1min\n",
      "[Parallel(n_jobs=1)]: Done   7 out of   7 | elapsed:  4.8min remaining:    0.0s\n",
      "[CV] epochs=30 .......................................................\n",
      "[CV] ........................... epochs=30, score=0.877, total= 1.1min\n",
      "[Parallel(n_jobs=1)]: Done   8 out of   8 | elapsed:  5.9min remaining:    0.0s\n",
      "[CV] epochs=30 .......................................................\n",
      "[CV] .......................... epochs=30, score=0.8764, total= 1.1min\n",
      "[Parallel(n_jobs=1)]: Done   9 out of   9 | elapsed:  7.1min remaining:    0.0s\n",
      "[CV] epochs=40 .......................................................\n",
      "[CV] .......................... epochs=40, score=0.8767, total= 1.5min\n",
      "[Parallel(n_jobs=1)]: Done  10 out of  10 | elapsed:  8.6min remaining:    0.0s\n",
      "[CV] epochs=40 .......................................................\n",
      "[CV] .......................... epochs=40, score=0.8771, total= 1.5min\n",
      "[Parallel(n_jobs=1)]: Done  11 out of  11 | elapsed: 10.1min remaining:    0.0s\n",
      "[CV] epochs=40 .......................................................\n",
      "[CV] .......................... epochs=40, score=0.8669, total= 1.5min\n",
      "[Parallel(n_jobs=1)]: Done  12 out of  12 | elapsed: 11.6min remaining:    0.0s\n",
      "[CV] epochs=50 .......................................................\n",
      "[CV] .......................... epochs=50, score=0.8656, total= 1.8min\n",
      "[Parallel(n_jobs=1)]: Done  13 out of  13 | elapsed: 13.4min remaining:    0.0s\n",
      "[CV] epochs=50 .......................................................\n",
      "[CV] .......................... epochs=50, score=0.8738, total= 2.0min\n",
      "[Parallel(n_jobs=1)]: Done  14 out of  14 | elapsed: 15.4min remaining:    0.0s\n",
      "[CV] epochs=50 .......................................................\n",
      "[CV] .......................... epochs=50, score=0.8723, total= 1.8min\n",
      "[Parallel(n_jobs=1)]: Done  15 out of  15 | elapsed: 17.3min remaining:    0.0s\n",
      "[Parallel(n_jobs=1)]: Done  15 out of  15 | elapsed: 17.3min finished\n",
      "Best result: 0.877100 using {'epochs': 30}\n",
      "0.874933 (0.003761) with: {'epochs': 10}\n",
      "0.873367 (0.006274) with: {'epochs': 20}\n",
      "0.877100 (0.000616) with: {'epochs': 30}\n",
      "0.873567 (0.004717) with: {'epochs': 40}\n",
      "0.870567 (0.003565) with: {'epochs': 50}\n"
     ]
    }
   ],
   "source": [
    "number_of_epochs = [10, 20, 30, 40, 50]\n",
    "\n",
    "model = KerasClassifier(build_fn = create_model, batch_size = None, epochs = 10, verbose = 0)\n",
    "\n",
    "param_grid = dict(epochs = number_of_epochs)\n",
    "\n",
    "grid = GridSearchCV(estimator = model, param_grid = param_grid, n_jobs = 1, verbose = 50)\n",
    "grid_result = grid.fit(X_train, y_train)\n",
    "\n",
    "# result summary\n",
    "print('Best result: %f using %s' % (grid_result.best_score_, grid_result.best_params_))\n",
    "for mean, stdev, param in zip(grid_result.cv_results_['mean_test_score'], \n",
    "                              grid_result.cv_results_['std_test_score'], \n",
    "                              grid_result.cv_results_['params']):\n",
    "    print('%f (%f) with: %r' % (mean, stdev, param))"
   ]
  },
  {
   "cell_type": "markdown",
   "metadata": {},
   "source": [
    "# Tune optimizer"
   ]
  },
  {
   "cell_type": "code",
   "execution_count": 13,
   "metadata": {},
   "outputs": [
    {
     "name": "stdout",
     "output_type": "stream",
     "text": [
      "Fitting 3 folds for each of 5 candidates, totalling 15 fits\n",
      "[CV] optimizer=sgd ...................................................\n",
      "[CV] ...................... optimizer=sgd, score=0.8401, total=  24.0s\n",
      "[Parallel(n_jobs=1)]: Done   1 out of   1 | elapsed:   25.0s remaining:    0.0s\n",
      "[CV] optimizer=sgd ...................................................\n",
      "[CV] ....................... optimizer=sgd, score=0.851, total=  24.1s\n",
      "[Parallel(n_jobs=1)]: Done   2 out of   2 | elapsed:   50.1s remaining:    0.0s\n",
      "[CV] optimizer=sgd ...................................................\n",
      "[CV] ...................... optimizer=sgd, score=0.8445, total=  22.6s\n",
      "[Parallel(n_jobs=1)]: Done   3 out of   3 | elapsed:  1.2min remaining:    0.0s\n",
      "[CV] optimizer=rmsprop ...............................................\n",
      "[CV] .................. optimizer=rmsprop, score=0.8615, total=  23.1s\n",
      "[Parallel(n_jobs=1)]: Done   4 out of   4 | elapsed:  1.6min remaining:    0.0s\n",
      "[CV] optimizer=rmsprop ...............................................\n",
      "[CV] .................. optimizer=rmsprop, score=0.8671, total=  23.8s\n",
      "[Parallel(n_jobs=1)]: Done   5 out of   5 | elapsed:  2.0min remaining:    0.0s\n",
      "[CV] optimizer=rmsprop ...............................................\n",
      "[CV] .................. optimizer=rmsprop, score=0.8585, total=  24.1s\n",
      "[Parallel(n_jobs=1)]: Done   6 out of   6 | elapsed:  2.5min remaining:    0.0s\n",
      "[CV] optimizer=adagrad ...............................................\n",
      "[CV] .................. optimizer=adagrad, score=0.8678, total=  21.5s\n",
      "[Parallel(n_jobs=1)]: Done   7 out of   7 | elapsed:  2.8min remaining:    0.0s\n",
      "[CV] optimizer=adagrad ...............................................\n",
      "[CV] .................. optimizer=adagrad, score=0.8766, total=  22.0s\n",
      "[Parallel(n_jobs=1)]: Done   8 out of   8 | elapsed:  3.2min remaining:    0.0s\n",
      "[CV] optimizer=adagrad ...............................................\n",
      "[CV] .................. optimizer=adagrad, score=0.8675, total=  22.5s\n",
      "[Parallel(n_jobs=1)]: Done   9 out of   9 | elapsed:  3.6min remaining:    0.0s\n",
      "[CV] optimizer=adadelta ..............................................\n",
      "[CV] ................. optimizer=adadelta, score=0.8711, total=  23.8s\n",
      "[Parallel(n_jobs=1)]: Done  10 out of  10 | elapsed:  4.0min remaining:    0.0s\n",
      "[CV] optimizer=adadelta ..............................................\n",
      "[CV] ................. optimizer=adadelta, score=0.8702, total=  24.8s\n",
      "[Parallel(n_jobs=1)]: Done  11 out of  11 | elapsed:  4.4min remaining:    0.0s\n",
      "[CV] optimizer=adadelta ..............................................\n",
      "[CV] ................. optimizer=adadelta, score=0.8645, total=  25.5s\n",
      "[Parallel(n_jobs=1)]: Done  12 out of  12 | elapsed:  4.9min remaining:    0.0s\n",
      "[CV] optimizer=adam ..................................................\n",
      "[CV] ..................... optimizer=adam, score=0.8721, total=  25.6s\n",
      "[Parallel(n_jobs=1)]: Done  13 out of  13 | elapsed:  5.3min remaining:    0.0s\n",
      "[CV] optimizer=adam ..................................................\n",
      "[CV] ..................... optimizer=adam, score=0.8703, total=  26.3s\n",
      "[Parallel(n_jobs=1)]: Done  14 out of  14 | elapsed:  5.8min remaining:    0.0s\n",
      "[CV] optimizer=adam ..................................................\n",
      "[CV] ..................... optimizer=adam, score=0.8705, total=  25.4s\n",
      "[Parallel(n_jobs=1)]: Done  15 out of  15 | elapsed:  6.2min remaining:    0.0s\n",
      "[Parallel(n_jobs=1)]: Done  15 out of  15 | elapsed:  6.2min finished\n",
      "Best result: 0.870967 using {'optimizer': 'adam'}\n",
      "0.845200 (0.004477) with: {'optimizer': 'sgd'}\n",
      "0.862367 (0.003564) with: {'optimizer': 'rmsprop'}\n",
      "0.870633 (0.004221) with: {'optimizer': 'adagrad'}\n",
      "0.868600 (0.002922) with: {'optimizer': 'adadelta'}\n",
      "0.870967 (0.000806) with: {'optimizer': 'adam'}\n"
     ]
    }
   ],
   "source": [
    "training_optimization_algorithms = ['sgd', 'rmsprop', 'adagrad', 'adadelta', 'adam']\n",
    "\n",
    "model = KerasClassifier(build_fn = create_model, batch_size = None, epochs = 10, verbose = 0)\n",
    "\n",
    "param_grid = dict(optimizer = training_optimization_algorithms)\n",
    "\n",
    "grid = GridSearchCV(estimator = model, param_grid = param_grid, n_jobs = 1, verbose = 50)\n",
    "grid_result = grid.fit(X_train, y_train)\n",
    "\n",
    "# result summary\n",
    "print('Best result: %f using %s' % (grid_result.best_score_, grid_result.best_params_))\n",
    "for mean, stdev, param in zip(grid_result.cv_results_['mean_test_score'], \n",
    "                              grid_result.cv_results_['std_test_score'], \n",
    "                              grid_result.cv_results_['params']):\n",
    "    print('%f (%f) with: %r' % (mean, stdev, param))"
   ]
  },
  {
   "cell_type": "markdown",
   "metadata": {},
   "source": [
    "# Tune weight initialization"
   ]
  },
  {
   "cell_type": "code",
   "execution_count": 14,
   "metadata": {},
   "outputs": [
    {
     "name": "stdout",
     "output_type": "stream",
     "text": [
      "Fitting 3 folds for each of 5 candidates, totalling 15 fits\n",
      "[CV] weight_initialization=uniform ...................................\n",
      "[CV] ...... weight_initialization=uniform, score=0.8747, total=  25.8s\n",
      "[Parallel(n_jobs=1)]: Done   1 out of   1 | elapsed:   26.8s remaining:    0.0s\n",
      "[CV] weight_initialization=uniform ...................................\n",
      "[CV] ...... weight_initialization=uniform, score=0.8778, total=  26.0s\n",
      "[Parallel(n_jobs=1)]: Done   2 out of   2 | elapsed:   53.8s remaining:    0.0s\n",
      "[CV] weight_initialization=uniform ...................................\n",
      "[CV] ...... weight_initialization=uniform, score=0.8693, total=  25.9s\n",
      "[Parallel(n_jobs=1)]: Done   3 out of   3 | elapsed:  1.3min remaining:    0.0s\n",
      "[CV] weight_initialization=lecun_uniform .............................\n",
      "[CV]  weight_initialization=lecun_uniform, score=0.8694, total=  26.1s\n",
      "[Parallel(n_jobs=1)]: Done   4 out of   4 | elapsed:  1.8min remaining:    0.0s\n",
      "[CV] weight_initialization=lecun_uniform .............................\n",
      "[CV]  weight_initialization=lecun_uniform, score=0.8681, total=  27.4s\n",
      "[Parallel(n_jobs=1)]: Done   5 out of   5 | elapsed:  2.3min remaining:    0.0s\n",
      "[CV] weight_initialization=lecun_uniform .............................\n",
      "[CV]  weight_initialization=lecun_uniform, score=0.8704, total=  28.0s\n",
      "[Parallel(n_jobs=1)]: Done   6 out of   6 | elapsed:  2.8min remaining:    0.0s\n",
      "[CV] weight_initialization=he_uniform ................................\n",
      "[CV] ... weight_initialization=he_uniform, score=0.8738, total=  27.8s\n",
      "[Parallel(n_jobs=1)]: Done   7 out of   7 | elapsed:  3.2min remaining:    0.0s\n",
      "[CV] weight_initialization=he_uniform ................................\n",
      "[CV] .... weight_initialization=he_uniform, score=0.865, total=  25.8s\n",
      "[Parallel(n_jobs=1)]: Done   8 out of   8 | elapsed:  3.7min remaining:    0.0s\n",
      "[CV] weight_initialization=he_uniform ................................\n",
      "[CV] ... weight_initialization=he_uniform, score=0.8599, total=  25.8s\n",
      "[Parallel(n_jobs=1)]: Done   9 out of   9 | elapsed:  4.1min remaining:    0.0s\n",
      "[CV] weight_initialization=glorot_uniform ............................\n",
      "[CV]  weight_initialization=glorot_uniform, score=0.8793, total=  27.1s\n",
      "[Parallel(n_jobs=1)]: Done  10 out of  10 | elapsed:  4.6min remaining:    0.0s\n",
      "[CV] weight_initialization=glorot_uniform ............................\n",
      "[CV] . weight_initialization=glorot_uniform, score=0.87, total=  26.9s\n",
      "[Parallel(n_jobs=1)]: Done  11 out of  11 | elapsed:  5.1min remaining:    0.0s\n",
      "[CV] weight_initialization=glorot_uniform ............................\n",
      "[CV]  weight_initialization=glorot_uniform, score=0.8644, total=  27.0s\n",
      "[Parallel(n_jobs=1)]: Done  12 out of  12 | elapsed:  5.5min remaining:    0.0s\n",
      "[CV] weight_initialization=he_normal .................................\n",
      "[CV] .... weight_initialization=he_normal, score=0.8715, total=  26.5s\n",
      "[Parallel(n_jobs=1)]: Done  13 out of  13 | elapsed:  6.0min remaining:    0.0s\n",
      "[CV] weight_initialization=he_normal .................................\n",
      "[CV] .... weight_initialization=he_normal, score=0.8506, total=  29.4s\n",
      "[Parallel(n_jobs=1)]: Done  14 out of  14 | elapsed:  6.5min remaining:    0.0s\n",
      "[CV] weight_initialization=he_normal .................................\n",
      "[CV] .... weight_initialization=he_normal, score=0.8651, total=  29.0s\n",
      "[Parallel(n_jobs=1)]: Done  15 out of  15 | elapsed:  7.0min remaining:    0.0s\n",
      "[Parallel(n_jobs=1)]: Done  15 out of  15 | elapsed:  7.0min finished\n",
      "Best result: 0.873933 using {'weight_initialization': 'uniform'}\n",
      "0.873933 (0.003512) with: {'weight_initialization': 'uniform'}\n",
      "0.869300 (0.000942) with: {'weight_initialization': 'lecun_uniform'}\n",
      "0.866233 (0.005741) with: {'weight_initialization': 'he_uniform'}\n",
      "0.871233 (0.006145) with: {'weight_initialization': 'glorot_uniform'}\n",
      "0.862400 (0.008743) with: {'weight_initialization': 'he_normal'}\n"
     ]
    }
   ],
   "source": [
    "weight_initializations = ['uniform', 'lecun_uniform', 'he_uniform', 'glorot_uniform', 'he_normal']\n",
    "\n",
    "model = KerasClassifier(build_fn = create_model, batch_size = None, epochs = 10, verbose = 0)\n",
    "\n",
    "param_grid = dict(weight_initialization = weight_initializations)\n",
    "\n",
    "grid = GridSearchCV(estimator = model, param_grid = param_grid, n_jobs = 1, verbose = 50)\n",
    "grid_result = grid.fit(X_train, y_train)\n",
    "\n",
    "# result summary\n",
    "print('Best result: %f using %s' % (grid_result.best_score_, grid_result.best_params_))\n",
    "for mean, stdev, param in zip(grid_result.cv_results_['mean_test_score'], \n",
    "                              grid_result.cv_results_['std_test_score'], \n",
    "                              grid_result.cv_results_['params']):\n",
    "    print('%f (%f) with: %r' % (mean, stdev, param))"
   ]
  },
  {
   "cell_type": "code",
   "execution_count": null,
   "metadata": {
    "collapsed": true
   },
   "outputs": [],
   "source": []
  }
 ],
 "metadata": {
  "kernelspec": {
   "display_name": "Python 2",
   "language": "python",
   "name": "python2"
  },
  "language_info": {
   "codemirror_mode": {
    "name": "ipython",
    "version": 2
   },
   "file_extension": ".py",
   "mimetype": "text/x-python",
   "name": "python",
   "nbconvert_exporter": "python",
   "pygments_lexer": "ipython2",
   "version": "2.7.14"
  }
 },
 "nbformat": 4,
 "nbformat_minor": 2
}
