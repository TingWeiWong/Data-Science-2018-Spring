{
 "cells": [
  {
   "cell_type": "code",
   "execution_count": 8,
   "metadata": {},
   "outputs": [],
   "source": [
    "from __future__ import absolute_import\n",
    "from keras.models import Sequential\n",
    "from keras.layers import Dense\n",
    "from keras.optimizers import SGD\n",
    "from keras.datasets import mnist\n",
    "from keras.utils import np_utils"
   ]
  },
  {
   "cell_type": "code",
   "execution_count": 14,
   "metadata": {
    "collapsed": true
   },
   "outputs": [],
   "source": [
    "batch_size = 128\n",
    "nb_classes = 10\n",
    "nb_epoch = 100"
   ]
  },
  {
   "cell_type": "code",
   "execution_count": 15,
   "metadata": {},
   "outputs": [],
   "source": [
    "# Load MNIST dataset\n",
    "(X_train, y_train), (X_test, y_test) = mnist.load_data()\n",
    "X_train = X_train.reshape(60000, 784)\n",
    "X_test = X_test.reshape(10000, 784)\n",
    "X_train = X_train.astype('float32')\n",
    "X_test = X_test.astype('float32')\n",
    "X_train /= 255\n",
    "X_test /= 255\n",
    "Y_Train = np_utils.to_categorical(y_train, nb_classes)\n",
    "Y_Test = np_utils.to_categorical(y_test, nb_classes)"
   ]
  },
  {
   "cell_type": "code",
   "execution_count": 11,
   "metadata": {},
   "outputs": [
    {
     "name": "stdout",
     "output_type": "stream",
     "text": [
      "_________________________________________________________________\n",
      "Layer (type)                 Output Shape              Param #   \n",
      "=================================================================\n",
      "dense_2 (Dense)              (None, 10)                7850      \n",
      "=================================================================\n",
      "Total params: 7,850\n",
      "Trainable params: 7,850\n",
      "Non-trainable params: 0\n",
      "_________________________________________________________________\n"
     ]
    },
    {
     "name": "stderr",
     "output_type": "stream",
     "text": [
      "/Library/Frameworks/Python.framework/Versions/2.7/lib/python2.7/site-packages/ipykernel_launcher.py:3: UserWarning: Update your `Dense` call to the Keras 2 API: `Dense(kernel_initializer=\"normal\", activation=\"softmax\", input_shape=(784,), units=10)`\n",
      "  This is separate from the ipykernel package so we can avoid doing imports until\n"
     ]
    }
   ],
   "source": [
    "# Logistic regression model\n",
    "model = Sequential()\n",
    "model.add(Dense(output_dim=10, input_shape=(784,), init='normal', activation='softmax'))\n",
    "model.compile(optimizer=SGD(lr=0.05), loss='categorical_crossentropy', metrics=['accuracy'])\n",
    "model.summary()"
   ]
  },
  {
   "cell_type": "code",
   "execution_count": 12,
   "metadata": {},
   "outputs": [
    {
     "name": "stdout",
     "output_type": "stream",
     "text": [
      "Epoch 1/100\n",
      "60000/60000 [==============================] - 1s 22us/step - loss: 0.7235 - acc: 0.8235\n",
      "Epoch 2/100\n",
      "60000/60000 [==============================] - 1s 21us/step - loss: 0.4320 - acc: 0.8859\n",
      "Epoch 3/100\n",
      "60000/60000 [==============================] - 1s 21us/step - loss: 0.3850 - acc: 0.8954\n",
      "Epoch 4/100\n",
      "60000/60000 [==============================] - 1s 21us/step - loss: 0.3616 - acc: 0.9008\n",
      "Epoch 5/100\n",
      "60000/60000 [==============================] - 1s 22us/step - loss: 0.3467 - acc: 0.9046\n",
      "Epoch 6/100\n",
      "60000/60000 [==============================] - 1s 22us/step - loss: 0.3361 - acc: 0.9066\n",
      "Epoch 7/100\n",
      "60000/60000 [==============================] - 1s 20us/step - loss: 0.3280 - acc: 0.9092\n",
      "Epoch 8/100\n",
      "60000/60000 [==============================] - 1s 22us/step - loss: 0.3215 - acc: 0.9109\n",
      "Epoch 9/100\n",
      "60000/60000 [==============================] - 2s 28us/step - loss: 0.3164 - acc: 0.9122\n",
      "Epoch 10/100\n",
      "60000/60000 [==============================] - 2s 26us/step - loss: 0.3120 - acc: 0.9135\n",
      "Epoch 11/100\n",
      "60000/60000 [==============================] - 1s 21us/step - loss: 0.3082 - acc: 0.9144\n",
      "Epoch 12/100\n",
      "60000/60000 [==============================] - 1s 20us/step - loss: 0.3049 - acc: 0.9154\n",
      "Epoch 13/100\n",
      "60000/60000 [==============================] - 1s 20us/step - loss: 0.3020 - acc: 0.9161\n",
      "Epoch 14/100\n",
      "60000/60000 [==============================] - 1s 20us/step - loss: 0.2994 - acc: 0.9171\n",
      "Epoch 15/100\n",
      "60000/60000 [==============================] - 1s 20us/step - loss: 0.2970 - acc: 0.9174\n",
      "Epoch 16/100\n",
      "60000/60000 [==============================] - 1s 19us/step - loss: 0.2950 - acc: 0.9181\n",
      "Epoch 17/100\n",
      "60000/60000 [==============================] - 1s 20us/step - loss: 0.2930 - acc: 0.9189\n",
      "Epoch 18/100\n",
      "60000/60000 [==============================] - 1s 20us/step - loss: 0.2913 - acc: 0.9195\n",
      "Epoch 19/100\n",
      "60000/60000 [==============================] - 1s 23us/step - loss: 0.2897 - acc: 0.9198\n",
      "Epoch 20/100\n",
      "60000/60000 [==============================] - 2s 28us/step - loss: 0.2884 - acc: 0.9200\n",
      "Epoch 21/100\n",
      "60000/60000 [==============================] - 1s 24us/step - loss: 0.2869 - acc: 0.9204\n",
      "Epoch 22/100\n",
      "60000/60000 [==============================] - 1s 20us/step - loss: 0.2856 - acc: 0.9210\n",
      "Epoch 23/100\n",
      "60000/60000 [==============================] - 2s 27us/step - loss: 0.2844 - acc: 0.9208\n",
      "Epoch 24/100\n",
      "60000/60000 [==============================] - 1s 22us/step - loss: 0.2833 - acc: 0.9211\n",
      "Epoch 25/100\n",
      "60000/60000 [==============================] - 1s 21us/step - loss: 0.2823 - acc: 0.9216\n",
      "Epoch 26/100\n",
      "60000/60000 [==============================] - 1s 24us/step - loss: 0.2812 - acc: 0.9220\n",
      "Epoch 27/100\n",
      "60000/60000 [==============================] - 1s 20us/step - loss: 0.2802 - acc: 0.9225\n",
      "Epoch 28/100\n",
      "60000/60000 [==============================] - 1s 20us/step - loss: 0.2795 - acc: 0.9224\n",
      "Epoch 29/100\n",
      "60000/60000 [==============================] - 1s 20us/step - loss: 0.2785 - acc: 0.9225\n",
      "Epoch 30/100\n",
      "60000/60000 [==============================] - 1s 20us/step - loss: 0.2776 - acc: 0.9230\n",
      "Epoch 31/100\n",
      "60000/60000 [==============================] - 1s 20us/step - loss: 0.2769 - acc: 0.9229\n",
      "Epoch 32/100\n",
      "60000/60000 [==============================] - 1s 20us/step - loss: 0.2761 - acc: 0.9235\n",
      "Epoch 33/100\n",
      "60000/60000 [==============================] - 1s 24us/step - loss: 0.2754 - acc: 0.9236\n",
      "Epoch 34/100\n",
      "60000/60000 [==============================] - 1s 24us/step - loss: 0.2747 - acc: 0.9239\n",
      "Epoch 35/100\n",
      "60000/60000 [==============================] - 1s 17us/step - loss: 0.2740 - acc: 0.9242\n",
      "Epoch 36/100\n",
      "60000/60000 [==============================] - 1s 17us/step - loss: 0.2733 - acc: 0.9244\n",
      "Epoch 37/100\n",
      "60000/60000 [==============================] - 1s 17us/step - loss: 0.2729 - acc: 0.9243\n",
      "Epoch 38/100\n",
      "60000/60000 [==============================] - 1s 17us/step - loss: 0.2722 - acc: 0.9245\n",
      "Epoch 39/100\n",
      "60000/60000 [==============================] - 1s 17us/step - loss: 0.2716 - acc: 0.9249\n",
      "Epoch 40/100\n",
      "60000/60000 [==============================] - 1s 17us/step - loss: 0.2710 - acc: 0.9251\n",
      "Epoch 41/100\n",
      "60000/60000 [==============================] - 1s 17us/step - loss: 0.2706 - acc: 0.9251\n",
      "Epoch 42/100\n",
      "60000/60000 [==============================] - 1s 17us/step - loss: 0.2700 - acc: 0.9250\n",
      "Epoch 43/100\n",
      "60000/60000 [==============================] - 1s 20us/step - loss: 0.2696 - acc: 0.9254\n",
      "Epoch 44/100\n",
      "60000/60000 [==============================] - 1s 19us/step - loss: 0.2690 - acc: 0.9257\n",
      "Epoch 45/100\n",
      "60000/60000 [==============================] - 1s 19us/step - loss: 0.2686 - acc: 0.9259\n",
      "Epoch 46/100\n",
      "60000/60000 [==============================] - 1s 22us/step - loss: 0.2682 - acc: 0.9254\n",
      "Epoch 47/100\n",
      "60000/60000 [==============================] - 1s 18us/step - loss: 0.2677 - acc: 0.9259\n",
      "Epoch 48/100\n",
      "60000/60000 [==============================] - 1s 17us/step - loss: 0.2672 - acc: 0.9261\n",
      "Epoch 49/100\n",
      "60000/60000 [==============================] - 1s 17us/step - loss: 0.2669 - acc: 0.9261\n",
      "Epoch 50/100\n",
      "60000/60000 [==============================] - 1s 16us/step - loss: 0.2665 - acc: 0.9261\n",
      "Epoch 51/100\n",
      "60000/60000 [==============================] - 1s 16us/step - loss: 0.2662 - acc: 0.9262\n",
      "Epoch 52/100\n",
      "60000/60000 [==============================] - 1s 16us/step - loss: 0.2657 - acc: 0.9267\n",
      "Epoch 53/100\n",
      "60000/60000 [==============================] - 1s 16us/step - loss: 0.2653 - acc: 0.9265\n",
      "Epoch 54/100\n",
      "60000/60000 [==============================] - 1s 17us/step - loss: 0.2649 - acc: 0.9267\n",
      "Epoch 55/100\n",
      "60000/60000 [==============================] - 1s 18us/step - loss: 0.2647 - acc: 0.9272\n",
      "Epoch 56/100\n",
      "60000/60000 [==============================] - 1s 18us/step - loss: 0.2642 - acc: 0.9268\n",
      "Epoch 57/100\n",
      "60000/60000 [==============================] - 1s 18us/step - loss: 0.2638 - acc: 0.9272\n",
      "Epoch 58/100\n",
      "60000/60000 [==============================] - 1s 19us/step - loss: 0.2636 - acc: 0.9274\n",
      "Epoch 59/100\n",
      "60000/60000 [==============================] - 1s 19us/step - loss: 0.2633 - acc: 0.9275\n",
      "Epoch 60/100\n",
      "60000/60000 [==============================] - 1s 24us/step - loss: 0.2630 - acc: 0.9276\n",
      "Epoch 61/100\n",
      "60000/60000 [==============================] - 2s 28us/step - loss: 0.2626 - acc: 0.9277\n",
      "Epoch 62/100\n",
      "60000/60000 [==============================] - 2s 26us/step - loss: 0.2623 - acc: 0.9280\n",
      "Epoch 63/100\n",
      "60000/60000 [==============================] - 1s 20us/step - loss: 0.2620 - acc: 0.9279\n",
      "Epoch 64/100\n",
      "60000/60000 [==============================] - 1s 21us/step - loss: 0.2617 - acc: 0.9281\n",
      "Epoch 65/100\n",
      "60000/60000 [==============================] - 1s 21us/step - loss: 0.2613 - acc: 0.9279\n",
      "Epoch 66/100\n",
      "60000/60000 [==============================] - 1s 20us/step - loss: 0.2611 - acc: 0.9287\n",
      "Epoch 67/100\n",
      "60000/60000 [==============================] - 1s 19us/step - loss: 0.2609 - acc: 0.9279\n",
      "Epoch 68/100\n",
      "60000/60000 [==============================] - 1s 17us/step - loss: 0.2605 - acc: 0.9283\n",
      "Epoch 69/100\n",
      "60000/60000 [==============================] - 1s 21us/step - loss: 0.2604 - acc: 0.9280\n",
      "Epoch 70/100\n",
      "60000/60000 [==============================] - 1s 22us/step - loss: 0.2600 - acc: 0.9282\n",
      "Epoch 71/100\n",
      "60000/60000 [==============================] - 1s 19us/step - loss: 0.2599 - acc: 0.9285\n",
      "Epoch 72/100\n",
      "60000/60000 [==============================] - 1s 19us/step - loss: 0.2596 - acc: 0.9288\n",
      "Epoch 73/100\n",
      "60000/60000 [==============================] - 1s 16us/step - loss: 0.2594 - acc: 0.9286\n",
      "Epoch 74/100\n",
      "60000/60000 [==============================] - 1s 20us/step - loss: 0.2591 - acc: 0.9291\n",
      "Epoch 75/100\n",
      "60000/60000 [==============================] - 1s 19us/step - loss: 0.2588 - acc: 0.9286\n",
      "Epoch 76/100\n",
      "60000/60000 [==============================] - 1s 20us/step - loss: 0.2586 - acc: 0.9289\n",
      "Epoch 77/100\n",
      "60000/60000 [==============================] - 1s 19us/step - loss: 0.2585 - acc: 0.9286\n",
      "Epoch 78/100\n",
      "60000/60000 [==============================] - 1s 19us/step - loss: 0.2582 - acc: 0.9291\n",
      "Epoch 79/100\n",
      "60000/60000 [==============================] - 1s 22us/step - loss: 0.2579 - acc: 0.9292\n",
      "Epoch 80/100\n",
      "60000/60000 [==============================] - 2s 26us/step - loss: 0.2576 - acc: 0.9292\n",
      "Epoch 81/100\n"
     ]
    },
    {
     "name": "stdout",
     "output_type": "stream",
     "text": [
      "60000/60000 [==============================] - 1s 19us/step - loss: 0.2576 - acc: 0.9291\n",
      "Epoch 82/100\n",
      "60000/60000 [==============================] - 1s 21us/step - loss: 0.2573 - acc: 0.9291\n",
      "Epoch 83/100\n",
      "60000/60000 [==============================] - 1s 19us/step - loss: 0.2571 - acc: 0.9292\n",
      "Epoch 84/100\n",
      "60000/60000 [==============================] - 1s 20us/step - loss: 0.2569 - acc: 0.9293\n",
      "Epoch 85/100\n",
      "60000/60000 [==============================] - 1s 24us/step - loss: 0.2567 - acc: 0.9294\n",
      "Epoch 86/100\n",
      "60000/60000 [==============================] - 2s 27us/step - loss: 0.2564 - acc: 0.9294\n",
      "Epoch 87/100\n",
      "60000/60000 [==============================] - 2s 29us/step - loss: 0.2562 - acc: 0.9297\n",
      "Epoch 88/100\n",
      "60000/60000 [==============================] - 1s 20us/step - loss: 0.2561 - acc: 0.9297\n",
      "Epoch 89/100\n",
      "60000/60000 [==============================] - 1s 20us/step - loss: 0.2559 - acc: 0.9297\n",
      "Epoch 90/100\n",
      "60000/60000 [==============================] - 1s 18us/step - loss: 0.2557 - acc: 0.9295\n",
      "Epoch 91/100\n",
      "60000/60000 [==============================] - 1s 17us/step - loss: 0.2555 - acc: 0.9295\n",
      "Epoch 92/100\n",
      "60000/60000 [==============================] - 1s 17us/step - loss: 0.2554 - acc: 0.9298\n",
      "Epoch 93/100\n",
      "60000/60000 [==============================] - 1s 18us/step - loss: 0.2552 - acc: 0.9300\n",
      "Epoch 94/100\n",
      "60000/60000 [==============================] - 1s 20us/step - loss: 0.2551 - acc: 0.9302\n",
      "Epoch 95/100\n",
      "60000/60000 [==============================] - 1s 20us/step - loss: 0.2549 - acc: 0.9303\n",
      "Epoch 96/100\n",
      "60000/60000 [==============================] - 1s 18us/step - loss: 0.2547 - acc: 0.9301\n",
      "Epoch 97/100\n",
      "60000/60000 [==============================] - 1s 17us/step - loss: 0.2545 - acc: 0.9299\n",
      "Epoch 98/100\n",
      "60000/60000 [==============================] - 1s 17us/step - loss: 0.2544 - acc: 0.9303\n",
      "Epoch 99/100\n",
      "60000/60000 [==============================] - 1s 19us/step - loss: 0.2542 - acc: 0.9302\n",
      "Epoch 100/100\n",
      "60000/60000 [==============================] - 1s 22us/step - loss: 0.2540 - acc: 0.9304\n"
     ]
    }
   ],
   "source": [
    "# Train\n",
    "history = model.fit(X_train, Y_Train, epochs=nb_epoch, batch_size=batch_size, verbose=1)"
   ]
  },
  {
   "cell_type": "code",
   "execution_count": 13,
   "metadata": {},
   "outputs": [
    {
     "name": "stdout",
     "output_type": "stream",
     "text": [
      "10000/10000 [==============================] - 0s 36us/step\n",
      "Summary: Loss over the test dataset: 0.27, Accuracy: 0.92\n"
     ]
    }
   ],
   "source": [
    "# Evaluate\n",
    "evaluation = model.evaluate(X_test, Y_Test, verbose=1)\n",
    "print('Summary: Loss over the test dataset: %.2f, Accuracy: %.2f' % (evaluation[0], evaluation[1]))"
   ]
  },
  {
   "cell_type": "code",
   "execution_count": null,
   "metadata": {
    "collapsed": true
   },
   "outputs": [],
   "source": []
  },
  {
   "cell_type": "code",
   "execution_count": null,
   "metadata": {
    "collapsed": true
   },
   "outputs": [],
   "source": []
  }
 ],
 "metadata": {
  "kernelspec": {
   "display_name": "Python 2",
   "language": "python",
   "name": "python2"
  },
  "language_info": {
   "codemirror_mode": {
    "name": "ipython",
    "version": 2
   },
   "file_extension": ".py",
   "mimetype": "text/x-python",
   "name": "python",
   "nbconvert_exporter": "python",
   "pygments_lexer": "ipython2",
   "version": "2.7.14"
  }
 },
 "nbformat": 4,
 "nbformat_minor": 1
}
