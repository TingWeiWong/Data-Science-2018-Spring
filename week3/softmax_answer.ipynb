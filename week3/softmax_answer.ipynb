{
 "cells": [
  {
   "cell_type": "markdown",
   "metadata": {},
   "source": [
    "# Softmax exercise"
   ]
  },
  {
   "cell_type": "code",
   "execution_count": 15,
   "metadata": {},
   "outputs": [],
   "source": [
    "%matplotlib inline\n",
    "import numpy as np\n",
    "from keras.datasets import mnist\n",
    "from sklearn.model_selection import StratifiedShuffleSplit\n",
    "import time\n",
    "from random import randrange\n",
    "from past.builtins import xrange\n",
    "import matplotlib.pyplot as plt\n",
    "plt.rcParams['image.interpolation'] = 'nearest'\n",
    "plt.rcParams['image.cmap'] = 'gray'"
   ]
  },
  {
   "cell_type": "code",
   "execution_count": 16,
   "metadata": {},
   "outputs": [
    {
     "name": "stdout",
     "output_type": "stream",
     "text": [
      "X_train original shape (60000, 28, 28)\n",
      "y_train original shape (60000,)\n",
      "X_test original shape (10000, 28, 28)\n",
      "y_test original shape (10000,)\n",
      "class\tcount\n",
      "0\t5923\n",
      "1\t6742\n",
      "2\t5958\n",
      "3\t6131\n",
      "4\t5842\n",
      "5\t5421\n",
      "6\t5918\n",
      "7\t6265\n",
      "8\t5851\n",
      "9\t5949\n"
     ]
    },
    {
     "data": {
      "image/png": "[encoded data removed]",
      "text/plain": [
       "<matplotlib.figure.Figure at 0x11a5ad7d0>"
      ]
     },
     "metadata": {},
     "output_type": "display_data"
    }
   ],
   "source": [
    "nb_classes = 10\n",
    "(X_train, y_train), (X_test, y_test) = mnist.load_data()\n",
    "\n",
    "#############################################################################\n",
    "# TODO: Print the shape of the training data and testing data               #\n",
    "# Plot the previous 9 training data and title their class                   #\n",
    "# Count the number of data for each class in training data                  #\n",
    "#############################################################################\n",
    "print(\"X_train original shape {}\".format(X_train.shape))\n",
    "print(\"y_train original shape {}\".format(y_train.shape))\n",
    "print(\"X_test original shape {}\".format(X_test.shape))\n",
    "print(\"y_test original shape {}\".format(y_test.shape))\n",
    "\n",
    "for i in range(9):\n",
    "    plt.subplot(3, 3, i + 1)\n",
    "    plt.imshow(X_train[i], cmap = 'gray', interpolation = 'none')\n",
    "    plt.title(\"Class {}\".format(y_train[i]))\n",
    "plt.tight_layout()\n",
    "    \n",
    "unique, count = np.unique(y_train, return_counts = True)\n",
    "cls_count = np.concatenate((unique.reshape(nb_classes, 1), count.reshape(nb_classes, 1)), axis = 1)\n",
    "print('class\\tcount')\n",
    "print('\\n'.join(['{}\\t{}'.format(item[0], item[1]) for item in cls_count]))\n",
    "# for cls in cls_count:\n",
    "#     print('{}\\t{}'.format(str(cls[0]), str(cls[1])))\n",
    "#############################################################################\n",
    "#                          END OF YOUR CODE                                 #\n",
    "#############################################################################\n",
    "\n"
   ]
  },
  {
   "cell_type": "code",
   "execution_count": 17,
   "metadata": {},
   "outputs": [
    {
     "name": "stdout",
     "output_type": "stream",
     "text": [
      "Train data shape: (6742, 785)\n",
      "Train label shape: (6742,)\n",
      "Validation data shape: (6742, 785)\n",
      "Validation label shape: (6742,)\n",
      "Test data shape: (2270, 785)\n",
      "Test label shape: (2270,)\n"
     ]
    }
   ],
   "source": [
    "# data prepration for binary classification\n",
    "not_n = 1\n",
    "def get_mnist_data(X_train, y_train, X_test, y_test):\n",
    "    # normalization\n",
    "    X_train = X_train.reshape((X_train.shape[0], -1)) / 255.\n",
    "    X_test = X_test.reshape((X_test.shape[0], -1)) / 255.\n",
    "    \n",
    "    # binarize\n",
    "    y_train[y_train != not_n] = 0\n",
    "    y_train[y_train == not_n] = 1\n",
    "    y_test[y_test != not_n] = 0\n",
    "    y_test[y_test == not_n] = 1\n",
    "    \n",
    "    X = np.array(X_train)\n",
    "    y = np.array(y_train)\n",
    "    \n",
    "    # split train and validation\n",
    "    sss = StratifiedShuffleSplit(n_splits = 10, test_size = 0.5, random_state = 0)\n",
    "    for train_idx, val_idx in sss.split(X_train, y_train):\n",
    "        X_train, X_val = X[train_idx], X[val_idx]\n",
    "        y_train, y_val = y[train_idx], y[val_idx]\n",
    "    \n",
    "    # add bias dimension and transform into columns\n",
    "    X_train = np.hstack([X_train, np.ones((X_train.shape[0], 1))])\n",
    "    X_val = np.hstack([X_val, np.ones((X_val.shape[0], 1))])\n",
    "    X_test = np.hstack([X_test, np.ones((X_test.shape[0], 1))])\n",
    "    \n",
    "    X_train, y_train = subsampling(X_train, y_train)\n",
    "    X_val, y_val = subsampling(X_val, y_val)\n",
    "    X_test, y_test = subsampling(X_test, y_test)\n",
    "    \n",
    "    return X_train, y_train, X_val, y_val , X_test, y_test\n",
    "\n",
    "def subsampling(X, y):\n",
    "    unique, count = np.unique(y, return_counts = True)\n",
    "    n_sampling = count[np.argmin(count)]\n",
    "    \n",
    "    idx_list = []\n",
    "    for i in range(len(unique)):\n",
    "        if count[i] <= n_sampling:\n",
    "            idx_list.append(np.where(y == unique[i])[0])\n",
    "            continue\n",
    "        idx = np.where(y == unique[i])[0]\n",
    "        idx = np.random.choice(idx, n_sampling, replace = False)\n",
    "        idx_list.append(idx)\n",
    "    \n",
    "    all_idx = np.sort(np.concatenate(idx_list))\n",
    "    X_sub = X[all_idx]\n",
    "    y_sub = y[all_idx]\n",
    "    \n",
    "    return X_sub, y_sub\n",
    "\n",
    "# Invoke the above function to get our data\n",
    "X_train, y_train, X_val, y_val, X_test, y_test = get_mnist_data(X_train, y_train, X_test, y_test)\n",
    "print('Train data shape: {}'.format(X_train.shape))\n",
    "print('Train label shape: {}'.format(y_train.shape))\n",
    "print('Validation data shape: {}'.format(X_val.shape))\n",
    "print('Validation label shape: {}'.format(y_val.shape))\n",
    "print('Test data shape: {}'.format(X_test.shape))\n",
    "print('Test label shape: {}'.format(y_test.shape))"
   ]
  },
  {
   "cell_type": "markdown",
   "metadata": {},
   "source": [
    "# Softmax"
   ]
  },
  {
   "cell_type": "code",
   "execution_count": 18,
   "metadata": {
    "collapsed": true
   },
   "outputs": [],
   "source": [
    "# First implement the naive softmax loss function with nested loops\n",
    "def softmax_loss_naive(W, X, y, reg):\n",
    "    \n",
    "  \"\"\"\n",
    "  Softmax loss function, naive implementation (with loops)\n",
    "\n",
    "  Inputs have dimension D, there are C classes, and we operate on minibatches\n",
    "  of N examples.\n",
    "\n",
    "  Inputs:\n",
    "  - W: A numpy array of shape (D, C) containing weights.\n",
    "  - X: A numpy array of shape (N, D) containing a minibatch of data.\n",
    "  - y: A numpy array of shape (N,) containing training labels; y[i] = c means\n",
    "    that X[i] has label c, where 0 <= c < C.\n",
    "  - reg: (float) regularization strength\n",
    "\n",
    "  Returns a tuple of:\n",
    "  - loss as single float\n",
    "  - gradient with respect to weights W; an array of same shape as W\n",
    "  \"\"\"\n",
    "  # Initialize the loss and gradient to zero.\n",
    "  loss = 0.0\n",
    "  dW = np.zeros_like(W)\n",
    "\n",
    "  #############################################################################\n",
    "  # TODO: Compute the softmax loss and its gradient using explicit loops.     #\n",
    "  # Store the loss in loss and the gradient in dW. If you are not careful     #\n",
    "  # here, it is easy to run into numeric instability. Don't forget the        #\n",
    "  # regularization!                                                           #\n",
    "  #############################################################################\n",
    "  N = X.shape[0]\n",
    "  D = X.shape[1]\n",
    "  C = W.shape[1]\n",
    "  data_loss = 0.0\n",
    "  \n",
    "  prob = np.zeros((N, C))\n",
    "  for i in range(N):\n",
    "    score = np.zeros((C))\n",
    "    for j in range(C):\n",
    "      score[j] = np.sum(X[i] * W[:, j])\n",
    "    exp_score = np.exp(score)\n",
    "    prob[i] = exp_score / np.sum(exp_score)\n",
    "  \n",
    "  for i in range(N):\n",
    "    correct_logprob = - np.log(prob[i, y[i]])\n",
    "    data_loss += correct_logprob\n",
    "  reg_loss = 0.0\n",
    "  for i in range(D):\n",
    "    for j in range(C):\n",
    "      reg_loss += W[i, j] ** 2\n",
    "  reg_loss *= 0.5 * reg\n",
    "  loss = data_loss / N + reg_loss\n",
    "  \n",
    "  dscore = np.array(prob)\n",
    "  for i in range(N):\n",
    "    dscore[i, y[i]] -= 1\n",
    "  # dscore[range(N), y] not dscore[:, y]\n",
    "  dscore /= N\n",
    "  for i in range(D):\n",
    "    for j in range(C):\n",
    "      dW[i, j] = np.sum(X[:, i] * dscore[:, j])\n",
    "      if i != D - 1:\n",
    "        dW[i, j] += reg * W[i, j]\n",
    "  #############################################################################\n",
    "  #                          END OF YOUR CODE                                 #\n",
    "  #############################################################################\n",
    "\n",
    "  return loss, dW"
   ]
  },
  {
   "cell_type": "code",
   "execution_count": 19,
   "metadata": {},
   "outputs": [
    {
     "name": "stdout",
     "output_type": "stream",
     "text": [
      "loss: 2.302628\n",
      "sanity check: 2.302585\n"
     ]
    }
   ],
   "source": [
    "# Generate a random softmax weight matrix and use it to compute the loss.\n",
    "W = np.random.randn(785, 10) * 0.0001\n",
    "loss, grad = softmax_loss_naive(W, X_train, y_train, 0.0)\n",
    "\n",
    "# As a rough sanity check, our loss should be something close to -log(0.1).\n",
    "print('loss: %f' % loss)\n",
    "print('sanity check: %f' % (-np.log(0.1)))"
   ]
  },
  {
   "cell_type": "markdown",
   "metadata": {},
   "source": [
    "## Inline Question 1:\n",
    "Why do we expect our loss to be close to -log(0.1)? Explain briefly.**\n",
    "\n",
    "**Your answer:** *Since there are 10 classes, a randomly-initialized weight will predict each class with probability 0.1*"
   ]
  },
  {
   "cell_type": "code",
   "execution_count": 27,
   "metadata": {},
   "outputs": [
    {
     "name": "stdout",
     "output_type": "stream",
     "text": [
      "numerical: 0.000057 analytic: 0.002742, relative error: 9.596021e-01\n",
      "numerical: 0.001428 analytic: -0.004319, relative error: 9.999983e-01\n",
      "numerical: 0.000038 analytic: -0.002282, relative error: 9.999957e-01\n",
      "numerical: 0.033055 analytic: 0.030680, relative error: 3.726030e-02\n",
      "numerical: 0.000013 analytic: 0.004838, relative error: 9.948409e-01\n",
      "numerical: 0.000789 analytic: 0.008150, relative error: 8.234574e-01\n",
      "numerical: 0.000003 analytic: -0.002346, relative error: 9.999957e-01\n",
      "numerical: 0.001808 analytic: 0.000977, relative error: 2.986024e-01\n",
      "numerical: 0.020913 analytic: 0.022593, relative error: 3.861060e-02\n",
      "numerical: -0.000207 analytic: -0.009691, relative error: 9.582122e-01\n",
      "numerical: 0.007670 analytic: 0.007670, relative error: 3.092886e-09\n",
      "numerical: -0.003231 analytic: -0.003231, relative error: 1.780195e-08\n",
      "numerical: 0.006271 analytic: 0.006271, relative error: 6.052792e-10\n",
      "numerical: 0.001502 analytic: 0.001502, relative error: 2.719138e-09\n",
      "numerical: 0.002243 analytic: 0.002243, relative error: 1.118889e-08\n",
      "numerical: -0.137623 analytic: -0.137623, relative error: 1.069009e-09\n",
      "numerical: 0.001404 analytic: 0.001404, relative error: 1.029020e-09\n",
      "numerical: -0.000886 analytic: -0.000886, relative error: 9.204192e-10\n",
      "numerical: 0.046128 analytic: 0.046128, relative error: 4.435037e-09\n",
      "numerical: -0.009318 analytic: -0.009318, relative error: 1.156941e-10\n"
     ]
    }
   ],
   "source": [
    "# Use numeric gradient checking as a debugging tool.\n",
    "# The numeric gradient should be close to the analytic gradient.\n",
    "def grad_check_sparse(f, x, analytic_grad, num_checks=10, h=1e-5):\n",
    "  \"\"\"\n",
    "  sample a few random elements and only return numerical\n",
    "  in this dimensions.\n",
    "  \"\"\"\n",
    "\n",
    "  for i in xrange(num_checks):\n",
    "    ix = tuple([randrange(m) for m in x.shape])\n",
    "\n",
    "    oldval = x[ix]\n",
    "    x[ix] = oldval + h # increment by h\n",
    "    fxph = f(x) # evaluate f(x + h)\n",
    "    x[ix] = oldval - h # increment by h\n",
    "    fxmh = f(x) # evaluate f(x - h)\n",
    "    x[ix] = oldval # reset\n",
    "\n",
    "    grad_numerical = (fxph - fxmh) / (2 * h)\n",
    "    grad_analytic = analytic_grad[ix]\n",
    "    rel_error = abs(grad_numerical - grad_analytic) / (abs(grad_numerical) + abs(grad_analytic) + 10 ** -8)\n",
    "    print('numerical: %f analytic: %f, relative error: %e' % (grad_numerical, grad_analytic, rel_error))\n",
    "\n",
    "\n",
    "f = lambda w: softmax_loss_naive(w, X_train, y_train, 0.0)[0]\n",
    "grad_numerical = grad_check_sparse(f, W, grad, 10)\n",
    "\n",
    "# Do another gradient check with regularization\n",
    "loss, grad = softmax_loss_naive(W, X_train, y_train, 5e1)\n",
    "f = lambda w: softmax_loss_naive(w, X_train, y_train, 5e1)[0]\n",
    "grad_numerical = grad_check_sparse(f, W, grad, 10)"
   ]
  },
  {
   "cell_type": "code",
   "execution_count": 28,
   "metadata": {},
   "outputs": [
    {
     "name": "stdout",
     "output_type": "stream",
     "text": [
      "naive loss: 2.302628e+00 computed in 1.488722s\n"
     ]
    }
   ],
   "source": [
    "# Now that we have a naive implementation of the softmax loss function and its gradient,\n",
    "# implement a vectorized version in softmax_loss_vectorized.\n",
    "# The two versions should compute the same results, but the vectorized version should be\n",
    "# much faster.\n",
    "tic = time.time()\n",
    "loss_naive, grad_naive = softmax_loss_naive(W, X_train, y_train, 0.000005)\n",
    "toc = time.time()\n",
    "print('naive loss: %e computed in %fs' % (loss_naive, toc - tic))"
   ]
  },
  {
   "cell_type": "code",
   "execution_count": 29,
   "metadata": {
    "collapsed": true
   },
   "outputs": [],
   "source": [
    "def softmax_loss_vectorized(W, X, y, reg):\n",
    "  \"\"\"\n",
    "  Softmax loss function, vectorized version.\n",
    "\n",
    "  Inputs and outputs are the same as softmax_loss_naive.\n",
    "  \"\"\"\n",
    "  # Initialize the loss and gradient to zero.\n",
    "  loss = 0.0\n",
    "  dW = np.zeros_like(W)\n",
    "\n",
    "  #############################################################################\n",
    "  # TODO: Compute the softmax loss and its gradient using no explicit loops.  #\n",
    "  # Store the loss in loss and the gradient in dW. If you are not careful     #\n",
    "  # here, it is easy to run into numeric instability. Don't forget the        #\n",
    "  # regularization!                                                           #\n",
    "  #############################################################################\n",
    "  N = X.shape[0]\n",
    "  D = X.shape[1]\n",
    "  C = W.shape[1]\n",
    "  data_loss = 0.0\n",
    "  \n",
    "  scores = np.dot(X, W)\n",
    "  exp_scores = np.exp(scores)\n",
    "  probs = exp_scores / np.sum(exp_scores, axis = 1, keepdims = True) # keepdims: broadcast\n",
    "  correct_logprobs = - np.log(probs[range(N), y]) # range(N)\n",
    "  data_loss += np.sum(correct_logprobs) / N\n",
    "  \n",
    "  reg_loss = 0.5 * reg * np.sum(W * W)\n",
    "  loss = data_loss + reg_loss\n",
    "  \n",
    "  dscores = probs\n",
    "  dscores[range(N), y] -= 1\n",
    "  dscores /= N\n",
    "  dW = np.dot(X.T, dscores)\n",
    "  dW[:, :-1] += reg * W[:, :-1]\n",
    "  #############################################################################\n",
    "  #                          END OF YOUR CODE                                 #\n",
    "  #############################################################################\n",
    "\n",
    "  return loss, dW"
   ]
  },
  {
   "cell_type": "code",
   "execution_count": 30,
   "metadata": {},
   "outputs": [
    {
     "name": "stdout",
     "output_type": "stream",
     "text": [
      "vectorized loss: 2.302628e+00 computed in 0.028544s\n",
      "Loss difference: 0.000000\n",
      "Gradient difference: 0.000000\n"
     ]
    }
   ],
   "source": [
    "tic = time.time()\n",
    "loss_vectorized, grad_vectorized = softmax_loss_vectorized(W, X_train, y_train, 0.000005)\n",
    "toc = time.time()\n",
    "print('vectorized loss: %e computed in %fs' % (loss_vectorized, toc - tic))\n",
    "\n",
    "# We use the Frobenius norm to compare the two versions\n",
    "# of the gradient.\n",
    "grad_difference = np.linalg.norm(grad_naive - grad_vectorized, ord = 'fro')\n",
    "print('Loss difference: %f' % np.abs(loss_naive - loss_vectorized))\n",
    "print('Gradient difference: %f' % grad_difference)"
   ]
  },
  {
   "cell_type": "code",
   "execution_count": 31,
   "metadata": {
    "collapsed": true
   },
   "outputs": [],
   "source": [
    "class LinearClassifier(object):\n",
    "\n",
    "  def __init__(self):\n",
    "    self.W = None\n",
    "\n",
    "  def train(self, X, y, learning_rate=1e-3, reg=1e-5, num_iters=100,\n",
    "            batch_size=200, verbose=False):\n",
    "    \"\"\"\n",
    "    Train this linear classifier using stochastic gradient descent.\n",
    "\n",
    "    Inputs:\n",
    "    - X: A numpy array of shape (N, D) containing training data; there are N\n",
    "      training samples each of dimension D.\n",
    "    - y: A numpy array of shape (N,) containing training labels; y[i] = c\n",
    "      means that X[i] has label 0 <= c < C for C classes.\n",
    "    - learning_rate: (float) learning rate for optimization.\n",
    "    - reg: (float) regularization strength.\n",
    "    - num_iters: (integer) number of steps to take when optimizing\n",
    "    - batch_size: (integer) number of training examples to use at each step.\n",
    "    - verbose: (boolean) If true, print progress during optimization.\n",
    "\n",
    "    Outputs:\n",
    "    A list containing the value of the loss function at each training iteration.\n",
    "    \"\"\"\n",
    "    num_train, dim = X.shape\n",
    "    num_classes = np.max(y) + 1 # assume y takes values 0...K-1 where K is number of classes\n",
    "    if self.W is None:\n",
    "      # lazily initialize W\n",
    "      self.W = 0.001 * np.random.randn(dim, num_classes)\n",
    "\n",
    "    # Run stochastic gradient descent to optimize W\n",
    "    loss_history = []\n",
    "    for it in xrange(num_iters):\n",
    "      X_batch = None\n",
    "      y_batch = None\n",
    "\n",
    "      #########################################################################\n",
    "      # TODO:                                                                 #\n",
    "      # Sample batch_size elements from the training data and their           #\n",
    "      # corresponding labels to use in this round of gradient descent.        #\n",
    "      # Store the data in X_batch and their corresponding labels in           #\n",
    "      # y_batch; after sampling X_batch should have shape (dim, batch_size)   #\n",
    "      # and y_batch should have shape (batch_size,)                           #\n",
    "      #                                                                       #\n",
    "      # Hint: Use np.random.choice to generate indices. Sampling with         #\n",
    "      # replacement is faster than sampling without replacement.              #\n",
    "      #########################################################################\n",
    "      idx = np.random.choice(range(num_train), batch_size, replace = False)\n",
    "      X_batch = X[idx]\n",
    "      y_batch = y[idx]\n",
    "      #########################################################################\n",
    "      #                       END OF YOUR CODE                                #\n",
    "      #########################################################################\n",
    "\n",
    "      # evaluate loss and gradient\n",
    "      loss, grad = self.loss(X_batch, y_batch, reg)\n",
    "      loss_history.append(loss)\n",
    "\n",
    "      # perform parameter update\n",
    "      #########################################################################\n",
    "      # TODO:                                                                 #\n",
    "      # Update the weights using the gradient and the learning rate.          #\n",
    "      #########################################################################\n",
    "      self.W += - learning_rate * grad\n",
    "      #########################################################################\n",
    "      #                       END OF YOUR CODE                                #\n",
    "      #########################################################################\n",
    "\n",
    "      if verbose and it % 100 == 0:\n",
    "        print('iteration %d / %d: loss %f' % (it, num_iters, loss))\n",
    "\n",
    "    return loss_history\n",
    "\n",
    "  def predict(self, X):\n",
    "    \"\"\"\n",
    "    Use the trained weights of this linear classifier to predict labels for\n",
    "    data points.\n",
    "\n",
    "    Inputs:\n",
    "    - X: A numpy array of shape (N, D) containing training data; there are N\n",
    "      training samples each of dimension D.\n",
    "\n",
    "    Returns:\n",
    "    - y_pred: Predicted labels for the data in X. y_pred is a 1-dimensional\n",
    "      array of length N, and each element is an integer giving the predicted\n",
    "      class.\n",
    "    \"\"\"\n",
    "    y_pred = np.zeros(X.shape[0])\n",
    "    ###########################################################################\n",
    "    # TODO:                                                                   #\n",
    "    # Implement this method. Store the predicted labels in y_pred.            #\n",
    "    ###########################################################################\n",
    "    scores = np.dot(X, self.W)\n",
    "    y_pred = np.argmax(scores, axis = 1)\n",
    "    ###########################################################################\n",
    "    #                           END OF YOUR CODE                              #\n",
    "    ###########################################################################\n",
    "    return y_pred\n",
    "  \n",
    "  def loss(self, X_batch, y_batch, reg):\n",
    "    \"\"\"\n",
    "    Compute the loss function and its derivative. \n",
    "    Subclasses will override this.\n",
    "\n",
    "    Inputs:\n",
    "    - X_batch: A numpy array of shape (N, D) containing a minibatch of N\n",
    "      data points; each point has dimension D.\n",
    "    - y_batch: A numpy array of shape (N,) containing labels for the minibatch.\n",
    "    - reg: (float) regularization strength.\n",
    "\n",
    "    Returns: A tuple containing:\n",
    "    - loss as a single float\n",
    "    - gradient with respect to self.W; an array of the same shape as W\n",
    "    \"\"\"\n",
    "    pass\n",
    "\n",
    "class Softmax(LinearClassifier):\n",
    "  \"\"\" A subclass that uses the Softmax + Cross-entropy loss function \"\"\"\n",
    "\n",
    "  def loss(self, X_batch, y_batch, reg):\n",
    "    return softmax_loss_vectorized(self.W, X_batch, y_batch, reg)"
   ]
  },
  {
   "cell_type": "code",
   "execution_count": 32,
   "metadata": {},
   "outputs": [
    {
     "name": "stdout",
     "output_type": "stream",
     "text": [
      "lr 1.000000e-06 reg 2.500000e+04 train accuracy: 0.408484 val accuracy: 0.410857\n",
      "lr 1.000000e-06 reg 5.000000e+04 train accuracy: 0.603975 val accuracy: 0.608721\n",
      "lr 5.000000e-06 reg 2.500000e+04 train accuracy: 0.937704 val accuracy: 0.935627\n",
      "lr 5.000000e-06 reg 5.000000e+04 train accuracy: 0.917384 val accuracy: 0.917532\n",
      "best validation accuracy achieved during cross-validation: 0.935627\n"
     ]
    }
   ],
   "source": [
    "# Use the validation set to tune hyperparameters (regularization strength and\n",
    "# learning rate). You should experiment with different ranges for the learning\n",
    "# rates and regularization strengths; if you are careful you should be able to\n",
    "# get a classification accuracy of over 0.6 on the validation set.\n",
    "results = {}\n",
    "best_val = -1\n",
    "best_softmax = None\n",
    "learning_rates = [1e-6, 5e-6]\n",
    "regularization_strengths = [2.5e4, 5e4]\n",
    "\n",
    "################################################################################\n",
    "# TODO:                                                                        #\n",
    "# Use the validation set to set the learning rate and regularization strength. #\n",
    "# save the best trained softmax classifer in best_softmax.                     #\n",
    "################################################################################\n",
    "for lr in learning_rates:\n",
    "    for rs in regularization_strengths:\n",
    "        clf = Softmax()\n",
    "        clf.train(X_train, y_train, lr, rs, num_iters = 1000, batch_size = 200)\n",
    "        y_pred_train = clf.predict(X_train)\n",
    "        train_acc = np.mean(y_pred_train == y_train)\n",
    "        y_pred = clf.predict(X_val)\n",
    "        val_acc = np.mean(y_pred == y_val)\n",
    "        if val_acc > best_val:\n",
    "          best_val = val_acc\n",
    "          best_softmax = clf\n",
    "        results[(lr, rs)] = train_acc, val_acc\n",
    "################################################################################\n",
    "#                              END OF YOUR CODE                                #\n",
    "################################################################################\n",
    "    \n",
    "# Print out results.\n",
    "for lr, reg in sorted(results):\n",
    "    train_accuracy, val_accuracy = results[(lr, reg)]\n",
    "    print('lr %e reg %e train accuracy: %f val accuracy: %f' % (\n",
    "                lr, reg, train_accuracy, val_accuracy))\n",
    "    \n",
    "print('best validation accuracy achieved during cross-validation: %f' % best_val)"
   ]
  },
  {
   "cell_type": "code",
   "execution_count": 33,
   "metadata": {},
   "outputs": [
    {
     "name": "stdout",
     "output_type": "stream",
     "text": [
      "softmax on raw pixels final test set accuracy: 0.941850\n"
     ]
    }
   ],
   "source": [
    "# evaluate the best softmax on test set\n",
    "y_test_pred = best_softmax.predict(X_test)\n",
    "test_accuracy = np.mean(y_test == y_test_pred)\n",
    "print('softmax on raw pixels final test set accuracy: %f' % (test_accuracy, ))"
   ]
  },
  {
   "cell_type": "code",
   "execution_count": 34,
   "metadata": {},
   "outputs": [
    {
     "data": {
      "image/png": "[encoded data removed]",
      "text/plain": [
       "<matplotlib.figure.Figure at 0x11a62c790>"
      ]
     },
     "metadata": {},
     "output_type": "display_data"
    }
   ],
   "source": [
    "# Visualize the learned weights for each class\n",
    "w = best_softmax.W[:-1,:] # strip out the bias\n",
    "w = w.reshape(28, 28, 2)\n",
    "\n",
    "w_min, w_max = np.min(w), np.max(w)\n",
    "\n",
    "classes = ['not {}'.format(not_n), '{}'.format(not_n)]\n",
    "for i in range(2):\n",
    "    plt.subplot(1, 2, i + 1)\n",
    "    \n",
    "    # Rescale the weights to be between 0 and 255\n",
    "    wimg = 255.0 * (w[:, :, i].squeeze() - w_min) / (w_max - w_min)\n",
    "    plt.imshow(wimg.astype('uint8'))\n",
    "    plt.axis('off')\n",
    "    plt.title(classes[i])"
   ]
  },
  {
   "cell_type": "code",
   "execution_count": null,
   "metadata": {
    "collapsed": true
   },
   "outputs": [],
   "source": []
  },
  {
   "cell_type": "code",
   "execution_count": null,
   "metadata": {
    "collapsed": true
   },
   "outputs": [],
   "source": []
  }
 ],
 "metadata": {
  "kernelspec": {
   "display_name": "Python 2",
   "language": "python",
   "name": "python2"
  },
  "language_info": {
   "codemirror_mode": {
    "name": "ipython",
    "version": 2
   },
   "file_extension": ".py",
   "mimetype": "text/x-python",
   "name": "python",
   "nbconvert_exporter": "python",
   "pygments_lexer": "ipython2",
   "version": "2.7.14"
  }
 },
 "nbformat": 4,
 "nbformat_minor": 2
}
