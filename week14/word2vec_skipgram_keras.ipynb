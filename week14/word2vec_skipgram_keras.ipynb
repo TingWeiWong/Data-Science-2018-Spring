{
 "cells": [
  {
   "cell_type": "markdown",
   "metadata": {},
   "source": [
    "# Skip-gram word2vec model \n",
    "Skip-gram model is trained to predict surrounding words given the current word.\n",
    "\n",
    "*I love green eggs and ham.*\n",
    "\n",
    "Assume a window size of three, this sentence can be broken down into the following sets of (context, word) pairs:\n",
    "\n",
    "([I, green], love)\n",
    "\n",
    "([love, eggs], green)\n",
    "\n",
    "([green, and], eggs)\n",
    "\n",
    "...\n",
    "\n",
    "Since the skip-gram model predicts a context word given the center word, we can convert the preceding dataset to one of (input, output) pairs. That is, given an input word, we expect the skip-gram model to predict the output word:\n",
    "\n",
    "(love, I), (love, green), (green, love), (green, eggs), (eggs, green), (eggs, and), …\n",
    "\n",
    "We can also generate additional negative samples by pairing each input word with some random word in the vocabulary. For example:\n",
    "\n",
    "(love, Sam), (love, zebra), (green, thing), …\n",
    "\n",
    "Finally, we generate positive and negative examples for our classifier:\n",
    "\n",
    "((love, I), 1), ((love, green), 1), …, ((love, Sam), 0), ((love, zebra), 0), …\n",
    "\n",
    "![Skip-gram model](https://i.imgur.com/n78k91P.png)"
   ]
  },
  {
   "cell_type": "code",
   "execution_count": 5,
   "metadata": {},
   "outputs": [],
   "source": [
    "%matplotlib inline\n",
    "import tensorflow as tf\n",
    "config = tf.ConfigProto()\n",
    "config.gpu_options.allow_growth = True\n",
    "sess = tf.Session(config = config)\n",
    "\n",
    "from keras.models import Sequential\n",
    "from keras.layers.core import Dense, Dropout, Activation\n",
    "from keras.preprocessing.text import Tokenizer, one_hot\n",
    "from sklearn.metrics.pairwise import cosine_distances\n",
    "from sklearn.model_selection import train_test_split\n",
    "from sklearn.preprocessing import OneHotEncoder\n",
    "import matplotlib.pyplot as plt\n",
    "import nltk\n",
    "import numpy as np\n",
    "import operator\n",
    "\n",
    "np.random.seed(42)\n",
    "\n",
    "BATCH_SIZE = 128\n",
    "NUM_EPOCHS = 20"
   ]
  },
  {
   "cell_type": "code",
   "execution_count": 8,
   "metadata": {},
   "outputs": [],
   "source": [
    "lines = []\n",
    "fin = open(\"alice_in_wonderland.txt\", \"r\")\n",
    "for line in fin:\n",
    "#############################################################################\n",
    "# TODO: Write a for loop to read in the corpus.                             #\n",
    "#############################################################################\n",
    "    line=line.strip()\n",
    "    if len(line)==0:\n",
    "        continue\n",
    "    lines.append(line)\n",
    "#############################################################################\n",
    "#                          END OF YOUR CODE                                 #\n",
    "#############################################################################\n",
    "fin.close()"
   ]
  },
  {
   "cell_type": "code",
   "execution_count": 9,
   "metadata": {
    "collapsed": true
   },
   "outputs": [],
   "source": [
    "#     line = line.strip()\n",
    "#     if len(line) == 0:\n",
    "#         continue\n",
    "#     lines.append(line)"
   ]
  },
  {
   "cell_type": "code",
   "execution_count": 12,
   "metadata": {},
   "outputs": [],
   "source": [
    "sents = nltk.sent_tokenize(\" \".join(lines))\n",
    "\n",
    "#############################################################################\n",
    "# TODO: Use tokenizer to tokenize the corpus.                               #\n",
    "#############################################################################\n",
    "tokenizer=Tokenizer(5000)\n",
    "tokens=tokenizer.fit_on_texts(sents)\n",
    "vocab_size=len(tokenizer.word_index)+1\n",
    "#############################################################################\n",
    "#                          END OF YOUR CODE                                 #\n",
    "#############################################################################\n",
    "\n",
    "xs = []\n",
    "ys = []\n",
    "for sent in sents:\n",
    "#############################################################################\n",
    "# TODO: Create training data for skipgram.                                  #\n",
    "#############################################################################\n",
    "    embedding = one_hot(sent, vocab_size)\n",
    "    triples = list(nltk.trigrams(embedding))\n",
    "    w_lefts = [x[0] for x in triples]\n",
    "    w_centers = [x[1] for x in triples]\n",
    "    w_rights = [x[2] for x in triples]\n",
    "    xs.extend(w_centers)\n",
    "    ys.extend(w_lefts)\n",
    "    xs.extend(w_centers)\n",
    "    ys.extend(w_rights)\n",
    "#############################################################################\n",
    "#                          END OF YOUR CODE                                 #\n",
    "#############################################################################\n"
   ]
  },
  {
   "cell_type": "code",
   "execution_count": 13,
   "metadata": {
    "collapsed": true
   },
   "outputs": [],
   "source": [
    "# tokenizer = Tokenizer(5000)  # use top 5000 words only\n",
    "# tokens = tokenizer.fit_on_texts(sents)\n",
    "# vocab_size = len(tokenizer.word_counts) + 1\n",
    "\n",
    "#     embedding = one_hot(sent, vocab_size)\n",
    "#     triples = list(nltk.trigrams(embedding))\n",
    "#     w_lefts = [x[0] for x in triples]\n",
    "#     w_centers = [x[1] for x in triples]\n",
    "#     w_rights = [x[2] for x in triples]\n",
    "#     xs.extend(w_centers)\n",
    "#     ys.extend(w_lefts)\n",
    "#     xs.extend(w_centers)\n",
    "#     ys.extend(w_rights)"
   ]
  },
  {
   "cell_type": "code",
   "execution_count": 15,
   "metadata": {},
   "outputs": [
    {
     "name": "stdout",
     "output_type": "stream",
     "text": [
      "((34405, 2647), (14745, 2647), (34405, 2647), (14745, 2647))\n"
     ]
    }
   ],
   "source": [
    "ohe = OneHotEncoder(n_values=vocab_size)\n",
    "#############################################################################\n",
    "# TODO: Use one hot encoder to fit on the corpus.                           #\n",
    "#############################################################################\n",
    "X = ohe.fit_transform(np.array(xs).reshape(-1, 1)).todense()\n",
    "Y = ohe.fit_transform(np.array(ys).reshape(-1, 1)).todense()\n",
    "Xtrain, Xtest, Ytrain, Ytest = train_test_split(X, Y, test_size=0.3,\n",
    "                                                random_state=42)\n",
    "print(Xtrain.shape, Xtest.shape, Ytrain.shape, Ytest.shape)\n",
    "#############################################################################\n",
    "#                          END OF YOUR CODE                                 #\n",
    "#############################################################################"
   ]
  },
  {
   "cell_type": "code",
   "execution_count": null,
   "metadata": {
    "collapsed": true
   },
   "outputs": [],
   "source": [
    "# X = ohe.fit_transform(np.array(xs).reshape(-1, 1)).todense()\n",
    "# Y = ohe.fit_transform(np.array(ys).reshape(-1, 1)).todense()\n",
    "# Xtrain, Xtest, Ytrain, Ytest = train_test_split(X, Y, test_size=0.3,\n",
    "#                                                 random_state=42)\n",
    "# print(Xtrain.shape, Xtest.shape, Ytrain.shape, Ytest.shape)"
   ]
  },
  {
   "cell_type": "code",
   "execution_count": 16,
   "metadata": {},
   "outputs": [
    {
     "name": "stdout",
     "output_type": "stream",
     "text": [
      "Train on 34405 samples, validate on 14745 samples\n",
      "Epoch 1/20\n",
      "34405/34405 [==============================] - 28s 809us/step - loss: 6.1851 - acc: 0.0575 - val_loss: 5.7904 - val_acc: 0.0581\n",
      "Epoch 2/20\n",
      "34405/34405 [==============================] - 26s 742us/step - loss: 5.7059 - acc: 0.0611 - val_loss: 5.7458 - val_acc: 0.0669\n",
      "Epoch 3/20\n",
      "34405/34405 [==============================] - 26s 766us/step - loss: 5.6243 - acc: 0.0689 - val_loss: 5.7074 - val_acc: 0.0697\n",
      "Epoch 4/20\n",
      "34405/34405 [==============================] - 26s 759us/step - loss: 5.5591 - acc: 0.0764 - val_loss: 5.6691 - val_acc: 0.0821\n",
      "Epoch 5/20\n",
      "34405/34405 [==============================] - 31s 902us/step - loss: 5.4987 - acc: 0.0854 - val_loss: 5.6414 - val_acc: 0.0890\n",
      "Epoch 6/20\n",
      "34405/34405 [==============================] - 28s 810us/step - loss: 5.4457 - acc: 0.0950 - val_loss: 5.6206 - val_acc: 0.0964\n",
      "Epoch 7/20\n",
      "34405/34405 [==============================] - 24s 704us/step - loss: 5.4003 - acc: 0.1005 - val_loss: 5.6018 - val_acc: 0.0996\n",
      "Epoch 8/20\n",
      "34405/34405 [==============================] - 24s 711us/step - loss: 5.3601 - acc: 0.1047 - val_loss: 5.5855 - val_acc: 0.1011\n",
      "Epoch 9/20\n",
      "34405/34405 [==============================] - 31s 902us/step - loss: 5.3269 - acc: 0.1063 - val_loss: 5.5754 - val_acc: 0.1027\n",
      "Epoch 10/20\n",
      "34405/34405 [==============================] - 30s 862us/step - loss: 5.2968 - acc: 0.1086 - val_loss: 5.5612 - val_acc: 0.1038\n",
      "Epoch 11/20\n",
      "34405/34405 [==============================] - 28s 805us/step - loss: 5.2657 - acc: 0.1102 - val_loss: 5.5590 - val_acc: 0.1061\n",
      "Epoch 12/20\n",
      "34405/34405 [==============================] - 26s 751us/step - loss: 5.2437 - acc: 0.1122 - val_loss: 5.5502 - val_acc: 0.1082\n",
      "Epoch 13/20\n",
      "34405/34405 [==============================] - 28s 813us/step - loss: 5.2194 - acc: 0.1137 - val_loss: 5.5444 - val_acc: 0.1098\n",
      "Epoch 14/20\n",
      "34405/34405 [==============================] - 28s 827us/step - loss: 5.1968 - acc: 0.1149 - val_loss: 5.5367 - val_acc: 0.1101\n",
      "Epoch 15/20\n",
      "34405/34405 [==============================] - 34s 978us/step - loss: 5.1716 - acc: 0.1160 - val_loss: 5.5294 - val_acc: 0.1103\n",
      "Epoch 16/20\n",
      "34405/34405 [==============================] - 33s 966us/step - loss: 5.1574 - acc: 0.1170 - val_loss: 5.5275 - val_acc: 0.1105\n",
      "Epoch 17/20\n",
      "34405/34405 [==============================] - 28s 810us/step - loss: 5.1399 - acc: 0.1168 - val_loss: 5.5203 - val_acc: 0.1122\n",
      "Epoch 18/20\n",
      "34405/34405 [==============================] - 28s 813us/step - loss: 5.1273 - acc: 0.1196 - val_loss: 5.5259 - val_acc: 0.1115\n",
      "Epoch 19/20\n",
      "34405/34405 [==============================] - 31s 905us/step - loss: 5.1115 - acc: 0.1201 - val_loss: 5.5170 - val_acc: 0.1127\n",
      "Epoch 20/20\n",
      "34405/34405 [==============================] - 36s 1ms/step - loss: 5.0991 - acc: 0.1210 - val_loss: 5.5205 - val_acc: 0.1131\n"
     ]
    }
   ],
   "source": [
    "model = Sequential()\n",
    "model.add(Dense(300, input_shape=(Xtrain.shape[1],)))\n",
    "model.add(Activation(\"relu\"))\n",
    "model.add(Dropout(0.5))\n",
    "model.add(Dense(Ytrain.shape[1]))\n",
    "model.add(Activation(\"softmax\"))\n",
    "\n",
    "model.compile(optimizer=\"rmsprop\", loss=\"categorical_crossentropy\", \n",
    "              metrics=[\"accuracy\"])\n",
    "history = model.fit(Xtrain, Ytrain, batch_size=BATCH_SIZE, \n",
    "                    epochs=NUM_EPOCHS, verbose=1,\n",
    "                    validation_data=(Xtest, Ytest))"
   ]
  },
  {
   "cell_type": "code",
   "execution_count": 20,
   "metadata": {},
   "outputs": [
    {
     "data": {
      "image/png": "[encoded data removed]",
      "text/plain": [
       "<matplotlib.figure.Figure at 0x212d88f90>"
      ]
     },
     "metadata": {},
     "output_type": "display_data"
    }
   ],
   "source": [
    "# plot loss function\n",
    "plt.subplot(211)\n",
    "plt.title(\"accuracy\")\n",
    "plt.plot(history.history[\"acc\"], color=\"r\", label=\"train\")\n",
    "plt.plot(history.history[\"val_acc\"], color=\"b\", label=\"validation\")\n",
    "plt.legend(loc=\"best\")\n",
    "\n",
    "plt.subplot(212)\n",
    "plt.title(\"loss\")\n",
    "plt.plot(history.history[\"loss\"], color=\"r\", label=\"train\")\n",
    "plt.plot(history.history[\"val_loss\"], color=\"b\", label=\"validation\")\n",
    "plt.legend(loc=\"best\")\n",
    "\n",
    "plt.tight_layout()\n",
    "plt.show()"
   ]
  },
  {
   "cell_type": "code",
   "execution_count": 18,
   "metadata": {},
   "outputs": [
    {
     "name": "stdout",
     "output_type": "stream",
     "text": [
      "14745/14745 [==============================] - 5s 348us/step\n",
      "Test score: 5.521, accuracy: 0.113\n",
      "stupid => dressed, should, resting, beloved, arches, come, died, the, scolded, footman's\n",
      "alice => ou, bring, am, confusing, fancy, shape, missed, alarmed, spot, laughing\n",
      "succeeded => persons, moon, lastly, conduct, seals, stockings, pretexts, what, ear, 0\n"
     ]
    }
   ],
   "source": [
    "# evaluate model\n",
    "score = model.evaluate(Xtest, Ytest, verbose=1)\n",
    "print(\"Test score: {:.3f}, accuracy: {:.3f}\".format(score[0], score[1]))\n",
    "\n",
    "# using the word2vec model\n",
    "word2idx = tokenizer.word_index\n",
    "idx2word = {v:k for k, v in word2idx.items()}\n",
    "\n",
    "# retrieve the weights from the first dense layer. This will convert\n",
    "# the input vector from a one-hot sum of two words to a dense 300 \n",
    "# dimensional representation\n",
    "W, b = model.layers[0].get_weights()\n",
    "\n",
    "idx2emb = {}    \n",
    "for word in word2idx.keys():\n",
    "    wid = word2idx[word]\n",
    "    vec_in = ohe.fit_transform(np.array(wid)).todense()\n",
    "    vec_emb = np.dot(vec_in, W)\n",
    "    idx2emb[wid] = vec_emb\n",
    "\n",
    "for word in [\"stupid\", \"alice\", \"succeeded\"]:\n",
    "    wid = word2idx[word]\n",
    "    source_emb = idx2emb[wid]\n",
    "    distances = []\n",
    "    for i in range(1, vocab_size):\n",
    "        if i == wid:\n",
    "            continue\n",
    "        target_emb = idx2emb[i]\n",
    "        distances.append(((wid, i), \n",
    "                         cosine_distances(source_emb, target_emb)))\n",
    "    sorted_distances = sorted(distances, key=operator.itemgetter(1))[0:10]\n",
    "    predictions = [idx2word[x[0][1]] for x in sorted_distances]\n",
    "    print(\"{:s} => {:s}\".format(word, \", \".join(predictions)))"
   ]
  },
  {
   "cell_type": "code",
   "execution_count": null,
   "metadata": {
    "collapsed": true
   },
   "outputs": [],
   "source": []
  }
 ],
 "metadata": {
  "kernelspec": {
   "display_name": "Python 2",
   "language": "python",
   "name": "python2"
  },
  "language_info": {
   "codemirror_mode": {
    "name": "ipython",
    "version": 2
   },
   "file_extension": ".py",
   "mimetype": "text/x-python",
   "name": "python",
   "nbconvert_exporter": "python",
   "pygments_lexer": "ipython2",
   "version": "2.7.14"
  }
 },
 "nbformat": 4,
 "nbformat_minor": 2
}
