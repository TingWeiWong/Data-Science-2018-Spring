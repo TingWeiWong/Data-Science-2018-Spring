{
 "cells": [
  {
   "cell_type": "markdown",
   "metadata": {},
   "source": [
    "# CBOW word2vec model\n",
    "CBOW model predicts the center word given the context words.\n",
    "\n",
    "The input to the model is the word IDs for the context words. These word IDs are fed into a common embedding layer that is initialized with small random weights. Each word ID is transformed into a vector of size (embed_size) by the embedding layer.\n",
    "\n",
    "Thus, each row of the input context is transformed into a matrix of size (2*window_size, embed_size) by this layer.\n",
    "\n",
    "This is fed into a lambda layer, which computes an average of all the embeddings. This average is then fed to a dense layer, which creates a dense vector of size (vocab_size) for each row.\n",
    "\n",
    "![CBOW model](https://i.imgur.com/iJ0H699.png)"
   ]
  },
  {
   "cell_type": "code",
   "execution_count": 12,
   "metadata": {},
   "outputs": [
    {
     "name": "stdout",
     "output_type": "stream",
     "text": [
      "[nltk_data] Downloading package punkt to\n",
      "[nltk_data]     /Users/andrewwong/nltk_data...\n",
      "[nltk_data]   Package punkt is already up-to-date!\n"
     ]
    }
   ],
   "source": [
    "%matplotlib inline\n",
    "import tensorflow as tf\n",
    "config = tf.ConfigProto()\n",
    "config.gpu_options.allow_growth = True\n",
    "sess = tf.Session(config = config)\n",
    "\n",
    "from __future__ import print_function\n",
    "from keras.models import Sequential\n",
    "from keras.layers.core import Dense, Dropout, Activation\n",
    "from keras.preprocessing.text import Tokenizer, one_hot\n",
    "from sklearn.preprocessing import OneHotEncoder\n",
    "from sklearn.model_selection import train_test_split\n",
    "from sklearn.metrics.pairwise import cosine_distances\n",
    "import matplotlib.pyplot as plt\n",
    "import nltk\n",
    "nltk.download('punkt')\n",
    "import numpy as np\n",
    "import operator\n",
    "\n",
    "np.random.seed(42)\n",
    "BATCH_SIZE = 128\n",
    "NUM_EPOCHS = 20"
   ]
  },
  {
   "cell_type": "code",
   "execution_count": 15,
   "metadata": {},
   "outputs": [],
   "source": [
    "lines = []\n",
    "# https://gist.github.com/phillipj/4944029\n",
    "fin = open(\"alice_in_wonderland.txt\", \"r\")\n",
    "#############################################################################\n",
    "# TODO: Write a for loop to read in the corpus.                             #\n",
    "#############################################################################\n",
    "for line in fin:\n",
    "    line =line.strip()\n",
    "    if len(line)==0:\n",
    "        continue\n",
    "    lines.append(line)\n",
    "\n",
    "#############################################################################\n",
    "#                          END OF YOUR CODE                                 #\n",
    "#############################################################################\n",
    "fin.close()"
   ]
  },
  {
   "cell_type": "code",
   "execution_count": 16,
   "metadata": {
    "collapsed": true
   },
   "outputs": [],
   "source": [
    "# for line in fin:\n",
    "#     line = line.strip()\n",
    "#     if len(line) == 0:\n",
    "#         continue\n",
    "#     lines.append(line)"
   ]
  },
  {
   "cell_type": "code",
   "execution_count": 18,
   "metadata": {},
   "outputs": [],
   "source": [
    "sents = nltk.sent_tokenize(\" \".join(lines))\n",
    "\n",
    "#############################################################################\n",
    "# TODO: Use tokenizer to tokenize the corpus.                               #\n",
    "#############################################################################\n",
    "tokenizer=Tokenizer(5000)\n",
    "tokens=tokenizer.fit_on_texts(sents)\n",
    "vocab_size=len(tokenizer.word_index)+1\n",
    "#############################################################################\n",
    "#                          END OF YOUR CODE                                 #\n",
    "#############################################################################\n",
    "\n",
    "w_lefts, w_centers, w_rights = [], [], []\n",
    "for sent in sents:\n",
    "#############################################################################\n",
    "# TODO: Create training data for cbow.                                      #\n",
    "#############################################################################\n",
    "    embedding = one_hot(sent, vocab_size)\n",
    "    triples = list(nltk.trigrams(embedding))\n",
    "    w_lefts.extend([x[0] for x in triples])\n",
    "    w_centers.extend([x[1] for x in triples])\n",
    "    w_rights.extend([x[2] for x in triples]) \n",
    "#############################################################################\n",
    "#                          END OF YOUR CODE                                 #\n",
    "#############################################################################"
   ]
  },
  {
   "cell_type": "code",
   "execution_count": null,
   "metadata": {
    "collapsed": true
   },
   "outputs": [],
   "source": [
    "# tokenizer = Tokenizer(5000)  # use top 5000 words only\n",
    "# tokens = tokenizer.fit_on_texts(sents)\n",
    "# vocab_size = len(tokenizer.word_index) + 1\n",
    "\n",
    "#     embedding = one_hot(sent, vocab_size)\n",
    "#     triples = list(nltk.trigrams(embedding))\n",
    "#     w_lefts.extend([x[0] for x in triples])\n",
    "#     w_centers.extend([x[1] for x in triples])\n",
    "#     w_rights.extend([x[2] for x in triples])"
   ]
  },
  {
   "cell_type": "code",
   "execution_count": 21,
   "metadata": {},
   "outputs": [
    {
     "name": "stdout",
     "output_type": "stream",
     "text": [
      "(17202, 2647) (7373, 2647) (17202, 2647) (7373, 2647)\n",
      "Train on 17202 samples, validate on 7373 samples\n",
      "Epoch 1/20\n",
      "17202/17202 [==============================] - 16s 936us/step - loss: 6.5441 - acc: 0.0614 - val_loss: 5.8618 - val_acc: 0.0609\n",
      "Epoch 2/20\n",
      "17202/17202 [==============================] - 15s 896us/step - loss: 5.7610 - acc: 0.0630 - val_loss: 5.7782 - val_acc: 0.0609\n",
      "Epoch 3/20\n",
      "17202/17202 [==============================] - 14s 802us/step - loss: 5.6666 - acc: 0.0637 - val_loss: 5.7279 - val_acc: 0.0655\n",
      "Epoch 4/20\n",
      "17202/17202 [==============================] - 15s 900us/step - loss: 5.5813 - acc: 0.0724 - val_loss: 5.6688 - val_acc: 0.0731\n",
      "Epoch 5/20\n",
      "17202/17202 [==============================] - 13s 752us/step - loss: 5.4836 - acc: 0.0820 - val_loss: 5.6000 - val_acc: 0.0769\n",
      "Epoch 6/20\n",
      "17202/17202 [==============================] - 13s 768us/step - loss: 5.3895 - acc: 0.0943 - val_loss: 5.5365 - val_acc: 0.0953\n",
      "Epoch 7/20\n",
      "17202/17202 [==============================] - 14s 828us/step - loss: 5.2982 - acc: 0.1092 - val_loss: 5.4878 - val_acc: 0.1135\n",
      "Epoch 8/20\n",
      "17202/17202 [==============================] - 15s 876us/step - loss: 5.2138 - acc: 0.1218 - val_loss: 5.4334 - val_acc: 0.1242\n",
      "Epoch 9/20\n",
      "17202/17202 [==============================] - 14s 808us/step - loss: 5.1359 - acc: 0.1328 - val_loss: 5.3926 - val_acc: 0.1313\n",
      "Epoch 10/20\n",
      "17202/17202 [==============================] - 12s 715us/step - loss: 5.0648 - acc: 0.1424 - val_loss: 5.3631 - val_acc: 0.1383\n",
      "Epoch 11/20\n",
      "17202/17202 [==============================] - 13s 741us/step - loss: 4.9961 - acc: 0.1503 - val_loss: 5.3317 - val_acc: 0.1449\n",
      "Epoch 12/20\n",
      "17202/17202 [==============================] - 13s 727us/step - loss: 4.9294 - acc: 0.1582 - val_loss: 5.3080 - val_acc: 0.1495\n",
      "Epoch 13/20\n",
      "17202/17202 [==============================] - 12s 700us/step - loss: 4.8743 - acc: 0.1645 - val_loss: 5.2815 - val_acc: 0.1510\n",
      "Epoch 14/20\n",
      "17202/17202 [==============================] - 12s 711us/step - loss: 4.8181 - acc: 0.1703 - val_loss: 5.2737 - val_acc: 0.1571\n",
      "Epoch 15/20\n",
      "17202/17202 [==============================] - 13s 737us/step - loss: 4.7694 - acc: 0.1757 - val_loss: 5.2497 - val_acc: 0.1580\n",
      "Epoch 16/20\n",
      "17202/17202 [==============================] - 13s 765us/step - loss: 4.7130 - acc: 0.1811 - val_loss: 5.2384 - val_acc: 0.1602\n",
      "Epoch 17/20\n",
      "17202/17202 [==============================] - 12s 703us/step - loss: 4.6686 - acc: 0.1879 - val_loss: 5.2427 - val_acc: 0.1642\n",
      "Epoch 18/20\n",
      "17202/17202 [==============================] - 13s 769us/step - loss: 4.6193 - acc: 0.1897 - val_loss: 5.2241 - val_acc: 0.1661\n",
      "Epoch 19/20\n",
      "17202/17202 [==============================] - 15s 870us/step - loss: 4.5726 - acc: 0.1942 - val_loss: 5.2262 - val_acc: 0.1702\n",
      "Epoch 20/20\n",
      "17202/17202 [==============================] - 16s 952us/step - loss: 4.5278 - acc: 0.1983 - val_loss: 5.2124 - val_acc: 0.1705\n"
     ]
    }
   ],
   "source": [
    "ohe = OneHotEncoder(n_values=vocab_size)\n",
    "#############################################################################\n",
    "# TODO: Use one hot encoder to fit on the corpus.                           #\n",
    "#############################################################################\n",
    "Xleft = ohe.fit_transform(np.array(w_lefts).reshape(-1, 1)).todense()\n",
    "Xright = ohe.fit_transform(np.array(w_rights).reshape(-1, 1)).todense()\n",
    "X = (Xleft + Xright) / 2.0\n",
    "Y = ohe.fit_transform(np.array(w_centers).reshape(-1, 1)).todense()\n",
    "Xtrain, Xtest, Ytrain, Ytest = train_test_split(X, Y, test_size=0.3,random_state=42)\n",
    "#############################################################################\n",
    "#                          END OF YOUR CODE                                 #\n",
    "#############################################################################\n",
    "print(Xtrain.shape, Xtest.shape, Ytrain.shape, Ytest.shape)\n",
    "\n",
    "model = Sequential()\n",
    "model.add(Dense(300, input_shape=(Xtrain.shape[1],)))\n",
    "model.add(Activation(\"relu\"))\n",
    "model.add(Dropout(0.5))\n",
    "model.add(Dense(Ytrain.shape[1]))\n",
    "model.add(Activation(\"softmax\"))\n",
    "\n",
    "model.compile(optimizer=\"rmsprop\", loss=\"categorical_crossentropy\", \n",
    "              metrics=[\"accuracy\"])\n",
    "history = model.fit(Xtrain, Ytrain, batch_size=BATCH_SIZE, \n",
    "                    epochs=NUM_EPOCHS, verbose=1,\n",
    "                    validation_data=(Xtest, Ytest))"
   ]
  },
  {
   "cell_type": "code",
   "execution_count": 23,
   "metadata": {
    "collapsed": true
   },
   "outputs": [],
   "source": [
    "# Xleft = ohe.fit_transform(np.array(w_lefts).reshape(-1, 1)).todense()\n",
    "# Xright = ohe.fit_transform(np.array(w_rights).reshape(-1, 1)).todense()\n",
    "# X = (Xleft + Xright) / 2.0\n",
    "# Y = ohe.fit_transform(np.array(w_centers).reshape(-1, 1)).todense()\n",
    "# Xtrain, Xtest, Ytrain, Ytest = train_test_split(X, Y, test_size=0.3,\n",
    "#                                                 random_state=42)"
   ]
  },
  {
   "cell_type": "code",
   "execution_count": 24,
   "metadata": {},
   "outputs": [
    {
     "data": {
      "image/png": "[encoded data removed]",
      "text/plain": [
       "<matplotlib.figure.Figure at 0x119f2f1d0>"
      ]
     },
     "metadata": {},
     "output_type": "display_data"
    }
   ],
   "source": [
    "# plot loss function\n",
    "plt.subplot(211)\n",
    "plt.title(\"accuracy\")\n",
    "plt.plot(history.history[\"acc\"], color=\"r\", label=\"train\")\n",
    "plt.plot(history.history[\"val_acc\"], color=\"b\", label=\"validation\")\n",
    "plt.legend(loc=\"best\")\n",
    "\n",
    "plt.subplot(212)\n",
    "plt.title(\"loss\")\n",
    "plt.plot(history.history[\"loss\"], color=\"r\", label=\"train\")\n",
    "plt.plot(history.history[\"val_loss\"], color=\"b\", label=\"validation\")\n",
    "plt.legend(loc=\"best\")\n",
    "\n",
    "plt.tight_layout()\n",
    "plt.show()"
   ]
  },
  {
   "cell_type": "code",
   "execution_count": 25,
   "metadata": {},
   "outputs": [
    {
     "name": "stdout",
     "output_type": "stream",
     "text": [
      "7373/7373 [==============================] - 2s 338us/step\n",
      "Test score: 5.212, accuracy: 0.170\n",
      "stupid => neatly, you'd, exclamation, she'd, arches, living, sugar, pigs, barking, moderate\n",
      "alice => bring, confusing, fancy, curtsey, ou, shiver, am, linked, tells, straightened\n",
      "succeeded => globe, hatter's, lessons, violently, treated, vote, treacle, consider, hard, deny\n"
     ]
    }
   ],
   "source": [
    "# evaluate model\n",
    "score = model.evaluate(Xtest, Ytest, verbose=1)\n",
    "print(\"Test score: {:.3f}, accuracy: {:.3f}\".format(score[0], score[1]))\n",
    "\n",
    "# using the word2vec model\n",
    "word2idx = tokenizer.word_index\n",
    "idx2word = {v:k for k, v in word2idx.items()}\n",
    "\n",
    "# retrieve the weights from the first dense layer. This will convert\n",
    "# the input vector from a one-hot sum of two words to a dense 300 \n",
    "# dimensional representation\n",
    "W, b = model.layers[0].get_weights()\n",
    "\n",
    "idx2emb = {}    \n",
    "for word in word2idx.keys():\n",
    "    wid = word2idx[word]\n",
    "    vec_in = ohe.fit_transform(np.array(wid)).todense()\n",
    "    vec_emb = np.dot(vec_in, W)\n",
    "    idx2emb[wid] = vec_emb\n",
    "\n",
    "for word in [\"stupid\", \"alice\", \"succeeded\"]:\n",
    "    wid = word2idx[word]\n",
    "    source_emb = idx2emb[wid]\n",
    "    distances = []\n",
    "    for i in range(1, vocab_size):\n",
    "        if i == wid:\n",
    "            continue\n",
    "        target_emb = idx2emb[i]\n",
    "        distances.append(((wid, i), \n",
    "                         cosine_distances(source_emb, target_emb)))\n",
    "    sorted_distances = sorted(distances, key=operator.itemgetter(1))[0:10]\n",
    "    predictions = [idx2word[x[0][1]] for x in sorted_distances]\n",
    "    print(\"{:s} => {:s}\".format(word, \", \".join(predictions)))"
   ]
  },
  {
   "cell_type": "code",
   "execution_count": null,
   "metadata": {
    "collapsed": true
   },
   "outputs": [],
   "source": []
  }
 ],
 "metadata": {
  "kernelspec": {
   "display_name": "Python 2",
   "language": "python",
   "name": "python2"
  },
  "language_info": {
   "codemirror_mode": {
    "name": "ipython",
    "version": 2
   },
   "file_extension": ".py",
   "mimetype": "text/x-python",
   "name": "python",
   "nbconvert_exporter": "python",
   "pygments_lexer": "ipython2",
   "version": "2.7.14"
  }
 },
 "nbformat": 4,
 "nbformat_minor": 2
}
