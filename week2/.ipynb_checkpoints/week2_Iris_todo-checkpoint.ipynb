{
 "cells": [
  {
   "cell_type": "markdown",
   "metadata": {},
   "source": [
    "This material is from the follwoing webpages:\n",
    "\n",
    "https://machinelearningmastery.com/machine-learning-in-python-step-by-step/\n",
    "\n",
    "https://www.kaggle.com/benhamner/python-data-visualizations"
   ]
  },
  {
   "cell_type": "markdown",
   "metadata": {},
   "source": [
    "<h2 align=\"center\">Iris Prediction</h2>\n",
    "<img align=\"center\" src=\"https://raw.githubusercontent.com/tsungnan/images/master/iris_sanguinea.jpg\" alt=\"Iris\" , width=200, height=200 >"
   ]
  },
  {
   "cell_type": "code",
   "execution_count": 8,
   "metadata": {
    "collapsed": true
   },
   "outputs": [],
   "source": [
    "# Load libraries\n",
    "import numpy as np\n",
    "import pandas\n",
    "import pandas as pd\n",
    "from pandas.plotting import scatter_matrix, andrews_curves, parallel_coordinates, radviz\n",
    "import matplotlib.pyplot as plt\n",
    "from sklearn import model_selection\n",
    "from sklearn.metrics import classification_report\n",
    "from sklearn.metrics import confusion_matrix\n",
    "from sklearn.metrics import accuracy_score\n",
    "from sklearn.linear_model import LogisticRegression\n",
    "from sklearn.tree import DecisionTreeClassifier\n",
    "from sklearn.neighbors import KNeighborsClassifier\n",
    "from sklearn.discriminant_analysis import LinearDiscriminantAnalysis\n",
    "from sklearn.naive_bayes import GaussianNB\n",
    "from sklearn.svm import SVC"
   ]
  },
  {
   "cell_type": "markdown",
   "metadata": {},
   "source": [
    "<p>For each example (i.e., flower), there are <strong>five</strong> pieces of data.</p>\n",
    "<p>Four are standard measurements of the flower's size (in centimeters), and the fifth is the species of iris.</p>\n",
    "<p>There are three species: <strong>setosa</strong>, <strong>versicolor</strong>, and <strong>virginica</strong>.</p>\n",
    "<p> Build a classifier that, given the two petal and two sepal measurements, can predict the species of an iris. Let's do a quick visualization before we start model building (always a good idea!):</p>"
   ]
  },
  {
   "cell_type": "code",
   "execution_count": 9,
   "metadata": {},
   "outputs": [],
   "source": [
    "# Load dataset\n",
    "url = \"https://archive.ics.uci.edu/ml/machine-learning-databases/iris/iris.data\"\n",
    "names = ['sepal-length', 'sepal-width', 'petal-length', 'petal-width', 'class']\n",
    "# TODO: read the data in the url, specify the column name, and store it into dataset\n",
    "dataset = pandas.read_csv(url,names=names)"
   ]
  },
  {
   "cell_type": "code",
   "execution_count": 11,
   "metadata": {},
   "outputs": [
    {
     "name": "stdout",
     "output_type": "stream",
     "text": [
      "(150, 5)\n"
     ]
    }
   ],
   "source": [
    "# TODO: print the dimension of the dataset\n",
    "print(dataset.shape)"
   ]
  },
  {
   "cell_type": "markdown",
   "metadata": {},
   "source": [
    "<h2 align=\"center\">Iris vercicolor</h2>\n",
    "<img align=\"center\" src=\"https://raw.githubusercontent.com/tsungnan/images/master/Iris_versicolor_3.jpg\" alt=\"Iris\" , width=200, height=200 >"
   ]
  },
  {
   "cell_type": "markdown",
   "metadata": {},
   "source": [
    "<h2 align=\"center\">Iris setosa</h2>\n",
    "<img align=\"center\" src=\"https://raw.githubusercontent.com/tsungnan/images/master/Kosaciec_szczecinkowaty_Iris_setosa.jpg\" alt=\"Iris\" , width=200, height=200 >"
   ]
  },
  {
   "cell_type": "markdown",
   "metadata": {},
   "source": [
    "<h2 align=\"center\">Iris virginica</h2>\n",
    "<img align=\"center\" src=\"https://raw.githubusercontent.com/tsungnan/images/master/1024px-Iris_virginica.jpg\" alt=\"Iris\" , width=200, height=200 >"
   ]
  },
  {
   "cell_type": "code",
   "execution_count": 13,
   "metadata": {},
   "outputs": [
    {
     "data": {
      "text/html": [
       "<div>\n",
       "<style scoped>\n",
       "    .dataframe tbody tr th:only-of-type {\n",
       "        vertical-align: middle;\n",
       "    }\n",
       "\n",
       "    .dataframe tbody tr th {\n",
       "        vertical-align: top;\n",
       "    }\n",
       "\n",
       "    .dataframe thead th {\n",
       "        text-align: right;\n",
       "    }\n",
       "</style>\n",
       "<table border=\"1\" class=\"dataframe\">\n",
       "  <thead>\n",
       "    <tr style=\"text-align: right;\">\n",
       "      <th></th>\n",
       "      <th>sepal-length</th>\n",
       "      <th>sepal-width</th>\n",
       "      <th>petal-length</th>\n",
       "      <th>petal-width</th>\n",
       "      <th>class</th>\n",
       "    </tr>\n",
       "  </thead>\n",
       "  <tbody>\n",
       "    <tr>\n",
       "      <th>40</th>\n",
       "      <td>5.0</td>\n",
       "      <td>3.5</td>\n",
       "      <td>1.3</td>\n",
       "      <td>0.3</td>\n",
       "      <td>Iris-setosa</td>\n",
       "    </tr>\n",
       "    <tr>\n",
       "      <th>41</th>\n",
       "      <td>4.5</td>\n",
       "      <td>2.3</td>\n",
       "      <td>1.3</td>\n",
       "      <td>0.3</td>\n",
       "      <td>Iris-setosa</td>\n",
       "    </tr>\n",
       "    <tr>\n",
       "      <th>42</th>\n",
       "      <td>4.4</td>\n",
       "      <td>3.2</td>\n",
       "      <td>1.3</td>\n",
       "      <td>0.2</td>\n",
       "      <td>Iris-setosa</td>\n",
       "    </tr>\n",
       "    <tr>\n",
       "      <th>43</th>\n",
       "      <td>5.0</td>\n",
       "      <td>3.5</td>\n",
       "      <td>1.6</td>\n",
       "      <td>0.6</td>\n",
       "      <td>Iris-setosa</td>\n",
       "    </tr>\n",
       "    <tr>\n",
       "      <th>44</th>\n",
       "      <td>5.1</td>\n",
       "      <td>3.8</td>\n",
       "      <td>1.9</td>\n",
       "      <td>0.4</td>\n",
       "      <td>Iris-setosa</td>\n",
       "    </tr>\n",
       "  </tbody>\n",
       "</table>\n",
       "</div>"
      ],
      "text/plain": [
       "    sepal-length  sepal-width  petal-length  petal-width        class\n",
       "40           5.0          3.5           1.3          0.3  Iris-setosa\n",
       "41           4.5          2.3           1.3          0.3  Iris-setosa\n",
       "42           4.4          3.2           1.3          0.2  Iris-setosa\n",
       "43           5.0          3.5           1.6          0.6  Iris-setosa\n",
       "44           5.1          3.8           1.9          0.4  Iris-setosa"
      ]
     },
     "execution_count": 13,
     "metadata": {},
     "output_type": "execute_result"
    }
   ],
   "source": [
    "# TODO: print the 41th to 45th data\n",
    "dataset[40:45]"
   ]
  },
  {
   "cell_type": "code",
   "execution_count": 15,
   "metadata": {},
   "outputs": [
    {
     "name": "stdout",
     "output_type": "stream",
     "text": [
      "     sepal-length  sepal-width  petal-length  petal-width           class\n",
      "145           6.7          3.0           5.2          2.3  Iris-virginica\n",
      "146           6.3          2.5           5.0          1.9  Iris-virginica\n",
      "147           6.5          3.0           5.2          2.0  Iris-virginica\n",
      "148           6.2          3.4           5.4          2.3  Iris-virginica\n",
      "149           5.9          3.0           5.1          1.8  Iris-virginica\n"
     ]
    }
   ],
   "source": [
    "# TODO: print the last 5 data\n",
    "print(dataset[-5:])"
   ]
  },
  {
   "cell_type": "code",
   "execution_count": 17,
   "metadata": {},
   "outputs": [
    {
     "name": "stdout",
     "output_type": "stream",
     "text": [
      "   sepal-length  sepal-width  petal-length  petal-width        class\n",
      "0           5.1          3.5           1.4          0.2  Iris-setosa\n",
      "1           4.9          3.0           1.4          0.2  Iris-setosa\n",
      "2           4.7          3.2           1.3          0.2  Iris-setosa\n",
      "3           4.6          3.1           1.5          0.2  Iris-setosa\n",
      "4           5.0          3.6           1.4          0.2  Iris-setosa\n"
     ]
    }
   ],
   "source": [
    "# TODO: print the first 5 data\n",
    "print(dataset.head())"
   ]
  },
  {
   "cell_type": "code",
   "execution_count": 20,
   "metadata": {},
   "outputs": [
    {
     "name": "stdout",
     "output_type": "stream",
     "text": [
      "       sepal-length  sepal-width  petal-length  petal-width\n",
      "count    150.000000   150.000000    150.000000   150.000000\n",
      "mean       5.843333     3.054000      3.758667     1.198667\n",
      "std        0.828066     0.433594      1.764420     0.763161\n",
      "min        4.300000     2.000000      1.000000     0.100000\n",
      "25%        5.100000     2.800000      1.600000     0.300000\n",
      "50%        5.800000     3.000000      4.350000     1.300000\n",
      "75%        6.400000     3.300000      5.100000     1.800000\n",
      "max        7.900000     4.400000      6.900000     2.500000\n",
      "class\n",
      "Iris-setosa        50\n",
      "Iris-versicolor    50\n",
      "Iris-virginica     50\n",
      "dtype: int64\n"
     ]
    }
   ],
   "source": [
    "# TODO: print the description of the dataset (count, mean, std, min, 25%, 50%, 75%, and max for each column)\n",
    "print(dataset.describe())\n",
    "# TODO: print the number of flowers in each class\n",
    "print(dataset.groupby(\"class\").size())"
   ]
  },
  {
   "cell_type": "code",
   "execution_count": 24,
   "metadata": {},
   "outputs": [
    {
     "data": {
      "image/png": "[encoded data removed]",
      "text/plain": [
       "<matplotlib.figure.Figure at 0x10cfb5c90>"
      ]
     },
     "metadata": {},
     "output_type": "display_data"
    },
    {
     "data": {
      "image/png": "[encoded data removed]",
      "text/plain": [
       "<matplotlib.figure.Figure at 0x10add98d0>"
      ]
     },
     "metadata": {},
     "output_type": "display_data"
    },
    {
     "data": {
      "image/png": "[encoded data removed]",
      "text/plain": [
       "<matplotlib.figure.Figure at 0x10cfb5650>"
      ]
     },
     "metadata": {},
     "output_type": "display_data"
    }
   ],
   "source": [
    "# TODO: plot the scatter graph of sepal-length versus sepal-width \n",
    "dataset.plot(kind = 'scatter', x = 'sepal-length', y = 'sepal-width')\n",
    "plt.show()"
   ]
  },
  {
   "cell_type": "code",
   "execution_count": 27,
   "metadata": {},
   "outputs": [
    {
     "data": {
      "image/png": "[encoded data removed]",
      "text/plain": [
       "<matplotlib.figure.Figure at 0x10d097890>"
      ]
     },
     "metadata": {},
     "output_type": "display_data"
    }
   ],
   "source": [
    "# TODO: plot the box plot by class\n",
    "dataset.plot(kind='scatter',x='petal-width',y='petal-length')\n",
    "plt.show()"
   ]
  },
  {
   "cell_type": "code",
   "execution_count": 28,
   "metadata": {
    "collapsed": true
   },
   "outputs": [],
   "source": [
    "# TODO: plot the box plot (subplots) for each column\n",
    "\n",
    "plt.show()"
   ]
  },
  {
   "cell_type": "code",
   "execution_count": 29,
   "metadata": {
    "collapsed": true
   },
   "outputs": [],
   "source": [
    "# plot the histogram for each column \n",
    "\n",
    "plt.show()"
   ]
  },
  {
   "cell_type": "code",
   "execution_count": 30,
   "metadata": {
    "collapsed": true
   },
   "outputs": [],
   "source": [
    "# TODO: plot the scatter matrix for each column \n",
    "\n",
    "plt.show()"
   ]
  },
  {
   "cell_type": "markdown",
   "metadata": {},
   "source": [
    "<h2>Munge and Split the Data for Training and Testing</h2>"
   ]
  },
  {
   "cell_type": "code",
   "execution_count": 31,
   "metadata": {
    "collapsed": true
   },
   "outputs": [],
   "source": [
    "# Split-out validation dataset\n",
    "array = dataset.values\n",
    "X = array[:,0:4]\n",
    "Y = array[:,4]"
   ]
  },
  {
   "cell_type": "code",
   "execution_count": 32,
   "metadata": {},
   "outputs": [
    {
     "data": {
      "text/plain": [
       "(150, 5)"
      ]
     },
     "execution_count": 32,
     "metadata": {},
     "output_type": "execute_result"
    }
   ],
   "source": [
    "array.shape"
   ]
  },
  {
   "cell_type": "code",
   "execution_count": 33,
   "metadata": {},
   "outputs": [
    {
     "data": {
      "text/plain": [
       "(150, 4)"
      ]
     },
     "execution_count": 33,
     "metadata": {},
     "output_type": "execute_result"
    }
   ],
   "source": [
    "X.shape"
   ]
  },
  {
   "cell_type": "markdown",
   "metadata": {},
   "source": [
    "<p>As is standard in supervised machine learning, we'll train with some of the data, and measure the performance of our model with the remainder.</p>\n",
    "<p>This is simple to do by hand, but is also built into scikit-learn as the&nbsp;<em><strong><code>train_test_split()</code></strong></em>&nbsp;function.</p>"
   ]
  },
  {
   "cell_type": "code",
   "execution_count": 34,
   "metadata": {
    "collapsed": true
   },
   "outputs": [],
   "source": [
    "validation_size = 0.20\n",
    "seed = 7\n",
    "X_train, X_validation, Y_train, Y_validation = model_selection.train_test_split(X, Y, test_size = validation_size, random_state = seed)"
   ]
  },
  {
   "cell_type": "code",
   "execution_count": 35,
   "metadata": {
    "collapsed": true
   },
   "outputs": [],
   "source": [
    "# Test options and evaluation metric\n",
    "seed = 7\n",
    "scoring = 'accuracy'"
   ]
  },
  {
   "cell_type": "markdown",
   "metadata": {},
   "source": [
    "<h2>Train a Scikit-learn Classifier</h2>"
   ]
  },
  {
   "cell_type": "markdown",
   "metadata": {},
   "source": [
    "<p>We'll train a logistic regression classifier.</p>\n",
    "<p>Doing this, with built-in hyperparameter cross-validation, is one line in scikit-learn.</p>\n",
    "<p>A&nbsp;<strong><code>LogisticRegressionCV</code></strong>&nbsp;classifier has a&nbsp;<strong><code>.fit()</code>&nbsp;</strong>method that takes care of the gory numerical details of learning model parameters that best fit the training data.</p>\n",
    "<p>So that method is all we need to do:</p>"
   ]
  },
  {
   "cell_type": "code",
   "execution_count": 36,
   "metadata": {},
   "outputs": [
    {
     "data": {
      "text/plain": [
       "LogisticRegressionCV(Cs=10, class_weight=None, cv=None, dual=False,\n",
       "           fit_intercept=True, intercept_scaling=1.0, max_iter=100,\n",
       "           multi_class='ovr', n_jobs=1, penalty='l2', random_state=None,\n",
       "           refit=True, scoring=None, solver='lbfgs', tol=0.0001, verbose=0)"
      ]
     },
     "execution_count": 36,
     "metadata": {},
     "output_type": "execute_result"
    }
   ],
   "source": [
    "from sklearn.linear_model import LogisticRegressionCV\n",
    "\n",
    "lr = LogisticRegressionCV()\n",
    "lr.fit(X_train, Y_train)"
   ]
  },
  {
   "cell_type": "markdown",
   "metadata": {},
   "source": [
    "<h2>Assess the Classifier Using Accuracy</h2>"
   ]
  },
  {
   "cell_type": "markdown",
   "metadata": {},
   "source": [
    "<p>Now we can measure the fraction of the test set the trained classifier classifies correctly (i.e. accuracy).</p>"
   ]
  },
  {
   "cell_type": "code",
   "execution_count": 37,
   "metadata": {},
   "outputs": [
    {
     "name": "stdout",
     "output_type": "stream",
     "text": [
      "Accuracy = 0.93\n"
     ]
    }
   ],
   "source": [
    "print(\"Accuracy = {:.2f}\".format(lr.score(X_train, Y_train)))"
   ]
  },
  {
   "cell_type": "code",
   "execution_count": 38,
   "metadata": {},
   "outputs": [
    {
     "name": "stdout",
     "output_type": "stream",
     "text": [
      "Accuracy = 0.73\n"
     ]
    }
   ],
   "source": [
    "print(\"Accuracy = {:.2f}\".format(lr.score(X_validation, Y_validation)))"
   ]
  },
  {
   "cell_type": "markdown",
   "metadata": {},
   "source": [
    "<p id=\"id-roIQuy\"><strong>scikit-learn</strong> makes building a classifier very simple:</p>\n",
    "<ul id=\"id-e5ujTp\">\n",
    "<li id=\"id-wkTzCzTQ\">one line to instantiate the classifier</li>\n",
    "<li id=\"id-YGTgsoTw\">one line to train it</li>\n",
    "<li id=\"id-qzTQu8T5\">and one line to measure its performance</li>\n",
    "</ul>"
   ]
  },
  {
   "cell_type": "code",
   "execution_count": 39,
   "metadata": {},
   "outputs": [
    {
     "name": "stdout",
     "output_type": "stream",
     "text": [
      "LR: 0.966667 (0.040825)\n",
      "LDA: 0.975000 (0.038188)\n",
      "KNN: 0.983333 (0.033333)\n",
      "CART: 0.983333 (0.033333)\n",
      "NB: 0.975000 (0.053359)\n",
      "SVM: 0.991667 (0.025000)\n"
     ]
    }
   ],
   "source": [
    "# Spot Check Algorithms\n",
    "models = []\n",
    "models.append(('LR', LogisticRegression()))\n",
    "models.append(('LDA', LinearDiscriminantAnalysis()))\n",
    "models.append(('KNN', KNeighborsClassifier()))\n",
    "models.append(('CART', DecisionTreeClassifier()))\n",
    "models.append(('NB', GaussianNB()))\n",
    "models.append(('SVM', SVC()))\n",
    "# evaluate each model in turn\n",
    "results = []\n",
    "names = []\n",
    "for name, model in models:\n",
    "    kfold = model_selection.KFold(n_splits = 10, random_state = seed)\n",
    "    cv_results = model_selection.cross_val_score(model, X_train, Y_train, cv = kfold, scoring = scoring)\n",
    "    results.append(cv_results)\n",
    "    names.append(name)\n",
    "    msg = \"%s: %f (%f)\" % (name, cv_results.mean(), cv_results.std())\n",
    "    print(msg)"
   ]
  },
  {
   "cell_type": "code",
   "execution_count": 40,
   "metadata": {},
   "outputs": [
    {
     "data": {
      "image/png": "[encoded data removed]",
      "text/plain": [
       "<matplotlib.figure.Figure at 0x10d77a750>"
      ]
     },
     "metadata": {},
     "output_type": "display_data"
    }
   ],
   "source": [
    "# Compare Algorithms\n",
    "fig = plt.figure()\n",
    "fig.suptitle('Algorithm Comparison')\n",
    "ax = fig.add_subplot(111)\n",
    "plt.boxplot(results)\n",
    "ax.set_xticklabels(names)\n",
    "plt.show()"
   ]
  },
  {
   "cell_type": "code",
   "execution_count": 42,
   "metadata": {},
   "outputs": [
    {
     "name": "stdout",
     "output_type": "stream",
     "text": [
      "0.9\n",
      "[[ 7  0  0]\n",
      " [ 0 11  1]\n",
      " [ 0  2  9]]\n",
      "                 precision    recall  f1-score   support\n",
      "\n",
      "    Iris-setosa       1.00      1.00      1.00         7\n",
      "Iris-versicolor       0.85      0.92      0.88        12\n",
      " Iris-virginica       0.90      0.82      0.86        11\n",
      "\n",
      "    avg / total       0.90      0.90      0.90        30\n",
      "\n"
     ]
    }
   ],
   "source": [
    "# Make predictions on validation dataset\n",
    "knn = KNeighborsClassifier()\n",
    "knn.fit(X_train, Y_train)\n",
    "predictions = knn.predict(X_validation)\n",
    "print(accuracy_score(Y_validation, predictions))\n",
    "print(confusion_matrix(Y_validation, predictions))\n",
    "print(classification_report(Y_validation, predictions))"
   ]
  },
  {
   "cell_type": "code",
   "execution_count": 43,
   "metadata": {},
   "outputs": [
    {
     "name": "stdout",
     "output_type": "stream",
     "text": [
      "0.7333333333333333\n",
      "[[6 1 0]\n",
      " [0 7 5]\n",
      " [0 2 9]]\n",
      "                 precision    recall  f1-score   support\n",
      "\n",
      "    Iris-setosa       1.00      0.86      0.92         7\n",
      "Iris-versicolor       0.70      0.58      0.64        12\n",
      " Iris-virginica       0.64      0.82      0.72        11\n",
      "\n",
      "    avg / total       0.75      0.73      0.73        30\n",
      "\n"
     ]
    }
   ],
   "source": [
    "# Make predictions on validation dataset\n",
    "lr = LogisticRegressionCV()\n",
    "lr.fit(X_train, Y_train)\n",
    "\n",
    "predictions = lr.predict(X_validation)\n",
    "print(accuracy_score(Y_validation, predictions))\n",
    "print(confusion_matrix(Y_validation, predictions))\n",
    "print(classification_report(Y_validation, predictions))"
   ]
  },
  {
   "cell_type": "markdown",
   "metadata": {},
   "source": [
    "<h2>Now do Something Very Similar With Keras</h2>"
   ]
  },
  {
   "cell_type": "markdown",
   "metadata": {},
   "source": [
    "<p id=\"id-roIQuy\">First a bit of data munging: scikit-learn's classifiers accept string labels, e.g.&nbsp;<code>\"setosa\"</code>. But&nbsp;<code>Keras</code>&nbsp;requires that labels be one-hot encoded.</p>\n",
    "<p>This means we need to convert data that looks like:</p>\n",
    "<p>setosa<br />versicolor<br />setosa<br />virginica<br />...</p>\n",
    "<p>&nbsp;</p>\n",
    "<p>&nbsp;</p>\n",
    "\n",
    "\n",
    "<p id=\"id-roIQuy\">to a table that looks like:</p>\n",
    "<p>&nbsp;</p>\n",
    "<p>setosa versicolor virginica<br />&nbsp; &nbsp; &nbsp; &nbsp;1&nbsp; &nbsp; &nbsp; &nbsp; &nbsp; &nbsp; &nbsp;0&nbsp; &nbsp; &nbsp; &nbsp; &nbsp; &nbsp;0<br />&nbsp; &nbsp; &nbsp; &nbsp;0&nbsp; &nbsp; &nbsp; &nbsp; &nbsp; &nbsp; &nbsp;1&nbsp; &nbsp; &nbsp; &nbsp; &nbsp; &nbsp;0<br />&nbsp; &nbsp; &nbsp; 1&nbsp; &nbsp; &nbsp; &nbsp; &nbsp; &nbsp; &nbsp; 0&nbsp; &nbsp; &nbsp; &nbsp; &nbsp; &nbsp;0<br />&nbsp; &nbsp; &nbsp; 0&nbsp; &nbsp; &nbsp; &nbsp; &nbsp; &nbsp; &nbsp; 0&nbsp; &nbsp; &nbsp; &nbsp; &nbsp; &nbsp;1</p>\n",
    "<p>&nbsp;</p>"
   ]
  },
  {
   "cell_type": "code",
   "execution_count": 44,
   "metadata": {},
   "outputs": [
    {
     "name": "stderr",
     "output_type": "stream",
     "text": [
      "Using TensorFlow backend.\n"
     ]
    }
   ],
   "source": [
    "from keras.utils import np_utils\n",
    "\n",
    "def one_hot_encode_object_array(arr):\n",
    "    '''One hot encode a numpy array of objects (e.g. strings)'''\n",
    "    uniques, ids = np.unique(arr, return_inverse=True)\n",
    "    return np_utils.to_categorical(ids, len(uniques))\n",
    "\n",
    "train_y_ohe = one_hot_encode_object_array(Y_train)\n",
    "validation_y_ohe = one_hot_encode_object_array(Y_validation)"
   ]
  },
  {
   "cell_type": "code",
   "execution_count": 45,
   "metadata": {},
   "outputs": [
    {
     "data": {
      "text/plain": [
       "array([0., 0., 1.])"
      ]
     },
     "execution_count": 45,
     "metadata": {},
     "output_type": "execute_result"
    }
   ],
   "source": [
    "train_y_ohe[0]"
   ]
  },
  {
   "cell_type": "code",
   "execution_count": 46,
   "metadata": {},
   "outputs": [
    {
     "data": {
      "text/plain": [
       "'Iris-virginica'"
      ]
     },
     "execution_count": 46,
     "metadata": {},
     "output_type": "execute_result"
    }
   ],
   "source": [
    "Y_train[0]"
   ]
  },
  {
   "cell_type": "markdown",
   "metadata": {},
   "source": [
    "<h2>Build the Neural Network Model</h2>"
   ]
  },
  {
   "cell_type": "markdown",
   "metadata": {},
   "source": [
    "<p id=\"id-roIQuy\">We have four features and three classes, so the input layer must have<strong> four units</strong>, and the <strong>output layer must have three units. </strong></p>\n",
    "<p>We only have to define the hidden layers. We're only going to have one hidden layer for this project, and we'll give it 16 units.</p>"
   ]
  },
  {
   "cell_type": "code",
   "execution_count": 47,
   "metadata": {
    "collapsed": true
   },
   "outputs": [],
   "source": [
    "from keras.models import Sequential\n",
    "from keras.layers.core import Dense, Activation\n",
    "model2 = Sequential()"
   ]
  },
  {
   "cell_type": "code",
   "execution_count": 48,
   "metadata": {},
   "outputs": [
    {
     "name": "stdout",
     "output_type": "stream",
     "text": [
      "_________________________________________________________________\n",
      "Layer (type)                 Output Shape              Param #   \n",
      "=================================================================\n",
      "dense_1 (Dense)              (None, 3)                 15        \n",
      "=================================================================\n",
      "Total params: 15\n",
      "Trainable params: 15\n",
      "Non-trainable params: 0\n",
      "_________________________________________________________________\n"
     ]
    },
    {
     "name": "stderr",
     "output_type": "stream",
     "text": [
      "/Library/Frameworks/Python.framework/Versions/2.7/lib/python2.7/site-packages/ipykernel_launcher.py:1: UserWarning: Update your `Dense` call to the Keras 2 API: `Dense(kernel_initializer=\"normal\", activation=\"softmax\", input_shape=(4,), units=3)`\n",
      "  \"\"\"Entry point for launching an IPython kernel.\n"
     ]
    }
   ],
   "source": [
    "model2.add(Dense(output_dim=3, input_shape=(4,), init='normal', activation='softmax'))\n",
    "model2.compile(optimizer='sgd', loss='categorical_crossentropy', metrics=['accuracy'])\n",
    "model2.summary()"
   ]
  },
  {
   "cell_type": "markdown",
   "metadata": {},
   "source": [
    "<p id=\"id-roIQuy\">Training neural networks often involves the concept of \"<strong>mini-batching</strong>\", which means showing the network a subset of the data, adjusting the weights, and then showing it another subset of the data.</p>\n",
    "<p>When the network has seen all the data once, that's called an \"<strong>epoch</strong>\".</p>\n",
    "<p>Tuning the mini-batch/epoch strategy is a somewhat problem-specific issue, but in this case we'll just use a mini-batch of 1.</p>\n",
    "<p>That makes it effectively good old stochastic gradient descent, i.e. the data is shown to the network one flower at a time, and the weights adjusted immediately.</p>"
   ]
  },
  {
   "cell_type": "code",
   "execution_count": 49,
   "metadata": {},
   "outputs": [
    {
     "name": "stderr",
     "output_type": "stream",
     "text": [
      "/Library/Frameworks/Python.framework/Versions/2.7/lib/python2.7/site-packages/keras/models.py:942: UserWarning: The `nb_epoch` argument in `fit` has been renamed `epochs`.\n",
      "  warnings.warn('The `nb_epoch` argument in `fit` '\n"
     ]
    },
    {
     "name": "stdout",
     "output_type": "stream",
     "text": [
      "Epoch 1/100\n",
      "120/120 [==============================] - 0s 4ms/step - loss: 0.9291 - acc: 0.5250\n",
      "Epoch 2/100\n",
      "120/120 [==============================] - 0s 2ms/step - loss: 0.6613 - acc: 0.7333A: 0s - loss: 0.6661 - acc: 0.73\n",
      "Epoch 3/100\n",
      "120/120 [==============================] - 0s 2ms/step - loss: 0.5725 - acc: 0.7333\n",
      "Epoch 4/100\n",
      "120/120 [==============================] - 0s 2ms/step - loss: 0.4802 - acc: 0.8000\n",
      "Epoch 5/100\n",
      "120/120 [==============================] - 0s 2ms/step - loss: 0.4836 - acc: 0.7500\n",
      "Epoch 6/100\n",
      "120/120 [==============================] - 0s 2ms/step - loss: 0.4454 - acc: 0.8000\n",
      "Epoch 7/100\n",
      "120/120 [==============================] - 0s 2ms/step - loss: 0.4205 - acc: 0.8250\n",
      "Epoch 8/100\n",
      "120/120 [==============================] - 0s 2ms/step - loss: 0.3932 - acc: 0.8417\n",
      "Epoch 9/100\n",
      "120/120 [==============================] - 0s 3ms/step - loss: 0.3702 - acc: 0.8500\n",
      "Epoch 10/100\n",
      "120/120 [==============================] - 0s 3ms/step - loss: 0.3478 - acc: 0.8500\n",
      "Epoch 11/100\n",
      "120/120 [==============================] - 0s 2ms/step - loss: 0.3496 - acc: 0.8667\n",
      "Epoch 12/100\n",
      "120/120 [==============================] - 0s 2ms/step - loss: 0.3255 - acc: 0.8917\n",
      "Epoch 13/100\n",
      "120/120 [==============================] - 0s 2ms/step - loss: 0.3226 - acc: 0.8750\n",
      "Epoch 14/100\n",
      "120/120 [==============================] - 0s 2ms/step - loss: 0.3089 - acc: 0.8917\n",
      "Epoch 15/100\n",
      "120/120 [==============================] - 0s 2ms/step - loss: 0.2903 - acc: 0.9000\n",
      "Epoch 16/100\n",
      "120/120 [==============================] - 0s 2ms/step - loss: 0.2939 - acc: 0.9333\n",
      "Epoch 17/100\n",
      "120/120 [==============================] - 0s 2ms/step - loss: 0.2799 - acc: 0.9167\n",
      "Epoch 18/100\n",
      "120/120 [==============================] - 0s 2ms/step - loss: 0.2648 - acc: 0.9333\n",
      "Epoch 19/100\n",
      "120/120 [==============================] - 0s 2ms/step - loss: 0.2548 - acc: 0.9333\n",
      "Epoch 20/100\n",
      "120/120 [==============================] - 0s 2ms/step - loss: 0.2332 - acc: 0.9667\n",
      "Epoch 21/100\n",
      "120/120 [==============================] - 0s 2ms/step - loss: 0.2377 - acc: 0.9417\n",
      "Epoch 22/100\n",
      "120/120 [==============================] - 0s 3ms/step - loss: 0.2478 - acc: 0.9333\n",
      "Epoch 23/100\n",
      "120/120 [==============================] - 0s 2ms/step - loss: 0.2346 - acc: 0.9250\n",
      "Epoch 24/100\n",
      "120/120 [==============================] - 0s 2ms/step - loss: 0.2345 - acc: 0.9417\n",
      "Epoch 25/100\n",
      "120/120 [==============================] - 0s 2ms/step - loss: 0.2191 - acc: 0.9583\n",
      "Epoch 26/100\n",
      "120/120 [==============================] - 0s 3ms/step - loss: 0.2123 - acc: 0.9417\n",
      "Epoch 27/100\n",
      "120/120 [==============================] - 0s 2ms/step - loss: 0.2130 - acc: 0.9333\n",
      "Epoch 28/100\n",
      "120/120 [==============================] - 0s 2ms/step - loss: 0.2013 - acc: 0.9667\n",
      "Epoch 29/100\n",
      "120/120 [==============================] - 0s 2ms/step - loss: 0.2086 - acc: 0.9417\n",
      "Epoch 30/100\n",
      "120/120 [==============================] - 0s 2ms/step - loss: 0.1957 - acc: 0.9667\n",
      "Epoch 31/100\n",
      "120/120 [==============================] - 0s 2ms/step - loss: 0.2062 - acc: 0.9667\n",
      "Epoch 32/100\n",
      "120/120 [==============================] - 0s 2ms/step - loss: 0.1948 - acc: 0.9667\n",
      "Epoch 33/100\n",
      "120/120 [==============================] - 0s 2ms/step - loss: 0.1972 - acc: 0.9667\n",
      "Epoch 34/100\n",
      "120/120 [==============================] - 0s 2ms/step - loss: 0.1805 - acc: 0.9667\n",
      "Epoch 35/100\n",
      "120/120 [==============================] - 0s 2ms/step - loss: 0.1920 - acc: 0.9667\n",
      "Epoch 36/100\n",
      "120/120 [==============================] - 0s 3ms/step - loss: 0.1817 - acc: 0.9750\n",
      "Epoch 37/100\n",
      "120/120 [==============================] - 0s 2ms/step - loss: 0.1815 - acc: 0.9583\n",
      "Epoch 38/100\n",
      "120/120 [==============================] - 0s 2ms/step - loss: 0.1723 - acc: 0.9833\n",
      "Epoch 39/100\n",
      "120/120 [==============================] - 0s 2ms/step - loss: 0.1713 - acc: 0.9750\n",
      "Epoch 40/100\n",
      "120/120 [==============================] - 0s 2ms/step - loss: 0.1780 - acc: 0.9750\n",
      "Epoch 41/100\n",
      "120/120 [==============================] - 0s 2ms/step - loss: 0.1734 - acc: 0.9667\n",
      "Epoch 42/100\n",
      "120/120 [==============================] - 0s 2ms/step - loss: 0.1676 - acc: 0.9583\n",
      "Epoch 43/100\n",
      "120/120 [==============================] - 0s 2ms/step - loss: 0.1635 - acc: 0.9750\n",
      "Epoch 44/100\n",
      "120/120 [==============================] - 0s 2ms/step - loss: 0.1637 - acc: 0.9833\n",
      "Epoch 45/100\n",
      "120/120 [==============================] - 0s 2ms/step - loss: 0.1628 - acc: 0.9833\n",
      "Epoch 46/100\n",
      "120/120 [==============================] - 0s 2ms/step - loss: 0.1642 - acc: 0.9667\n",
      "Epoch 47/100\n",
      "120/120 [==============================] - 0s 2ms/step - loss: 0.1573 - acc: 0.9750\n",
      "Epoch 48/100\n",
      "120/120 [==============================] - 0s 2ms/step - loss: 0.1549 - acc: 0.9667\n",
      "Epoch 49/100\n",
      "120/120 [==============================] - 0s 2ms/step - loss: 0.1583 - acc: 0.9750\n",
      "Epoch 50/100\n",
      "120/120 [==============================] - 0s 2ms/step - loss: 0.1493 - acc: 0.9750\n",
      "Epoch 51/100\n",
      "120/120 [==============================] - 0s 2ms/step - loss: 0.1487 - acc: 0.9833\n",
      "Epoch 52/100\n",
      "120/120 [==============================] - 0s 2ms/step - loss: 0.1512 - acc: 0.9750\n",
      "Epoch 53/100\n",
      "120/120 [==============================] - 0s 2ms/step - loss: 0.1372 - acc: 0.9750\n",
      "Epoch 54/100\n",
      "120/120 [==============================] - 0s 2ms/step - loss: 0.1438 - acc: 0.9667\n",
      "Epoch 55/100\n",
      "120/120 [==============================] - 0s 1ms/step - loss: 0.1463 - acc: 0.9917\n",
      "Epoch 56/100\n",
      "120/120 [==============================] - 0s 2ms/step - loss: 0.1408 - acc: 0.9667\n",
      "Epoch 57/100\n",
      "120/120 [==============================] - 0s 2ms/step - loss: 0.1406 - acc: 0.9750\n",
      "Epoch 58/100\n",
      "120/120 [==============================] - 0s 2ms/step - loss: 0.1413 - acc: 0.9833\n",
      "Epoch 59/100\n",
      "120/120 [==============================] - 0s 1ms/step - loss: 0.1426 - acc: 0.9667\n",
      "Epoch 60/100\n",
      "120/120 [==============================] - 0s 1ms/step - loss: 0.1369 - acc: 0.9833\n",
      "Epoch 61/100\n",
      "120/120 [==============================] - 0s 1ms/step - loss: 0.1428 - acc: 0.9750\n",
      "Epoch 62/100\n",
      "120/120 [==============================] - 0s 1ms/step - loss: 0.1292 - acc: 0.9750\n",
      "Epoch 63/100\n",
      "120/120 [==============================] - 0s 1ms/step - loss: 0.1414 - acc: 0.9750\n",
      "Epoch 64/100\n",
      "120/120 [==============================] - 0s 2ms/step - loss: 0.1355 - acc: 0.9750\n",
      "Epoch 65/100\n",
      "120/120 [==============================] - 0s 2ms/step - loss: 0.1320 - acc: 0.9917\n",
      "Epoch 66/100\n",
      "120/120 [==============================] - 0s 2ms/step - loss: 0.1348 - acc: 0.9750\n",
      "Epoch 67/100\n",
      "120/120 [==============================] - 0s 2ms/step - loss: 0.1272 - acc: 0.9583\n",
      "Epoch 68/100\n",
      "120/120 [==============================] - 0s 2ms/step - loss: 0.1323 - acc: 0.9750\n",
      "Epoch 69/100\n",
      "120/120 [==============================] - 0s 2ms/step - loss: 0.1309 - acc: 0.9750\n",
      "Epoch 70/100\n",
      "120/120 [==============================] - 0s 1ms/step - loss: 0.1310 - acc: 0.9833\n",
      "Epoch 71/100\n",
      "120/120 [==============================] - 0s 2ms/step - loss: 0.1303 - acc: 0.9833\n",
      "Epoch 72/100\n",
      "120/120 [==============================] - 0s 1ms/step - loss: 0.1288 - acc: 0.9833\n",
      "Epoch 73/100\n",
      "120/120 [==============================] - 0s 2ms/step - loss: 0.1247 - acc: 0.9667\n",
      "Epoch 74/100\n",
      "120/120 [==============================] - 0s 2ms/step - loss: 0.1266 - acc: 0.9833\n",
      "Epoch 75/100\n",
      "120/120 [==============================] - 0s 2ms/step - loss: 0.1254 - acc: 0.9917\n",
      "Epoch 76/100\n",
      "120/120 [==============================] - 0s 2ms/step - loss: 0.1259 - acc: 0.9750A: 0s - loss: 0.1212 - acc: 0.96\n",
      "Epoch 77/100\n",
      "120/120 [==============================] - 0s 2ms/step - loss: 0.1258 - acc: 0.9667\n",
      "Epoch 78/100\n",
      "120/120 [==============================] - 0s 2ms/step - loss: 0.1235 - acc: 0.9750\n",
      "Epoch 79/100\n",
      "120/120 [==============================] - 0s 2ms/step - loss: 0.1205 - acc: 0.9833\n",
      "Epoch 80/100\n",
      "120/120 [==============================] - 0s 2ms/step - loss: 0.1194 - acc: 0.9833\n",
      "Epoch 81/100\n",
      "120/120 [==============================] - 0s 2ms/step - loss: 0.1158 - acc: 0.9750\n",
      "Epoch 82/100\n",
      "120/120 [==============================] - 0s 2ms/step - loss: 0.1032 - acc: 0.9833\n",
      "Epoch 83/100\n",
      "120/120 [==============================] - 0s 2ms/step - loss: 0.1221 - acc: 0.9917\n",
      "Epoch 84/100\n"
     ]
    },
    {
     "name": "stdout",
     "output_type": "stream",
     "text": [
      "120/120 [==============================] - 0s 2ms/step - loss: 0.1148 - acc: 0.9750\n",
      "Epoch 85/100\n",
      "120/120 [==============================] - 0s 2ms/step - loss: 0.1154 - acc: 0.9750\n",
      "Epoch 86/100\n",
      "120/120 [==============================] - 0s 1ms/step - loss: 0.1152 - acc: 0.9833\n",
      "Epoch 87/100\n",
      "120/120 [==============================] - 0s 2ms/step - loss: 0.1098 - acc: 0.9750\n",
      "Epoch 88/100\n",
      "120/120 [==============================] - 0s 2ms/step - loss: 0.1139 - acc: 0.9750\n",
      "Epoch 89/100\n",
      "120/120 [==============================] - 0s 2ms/step - loss: 0.1156 - acc: 0.9833\n",
      "Epoch 90/100\n",
      "120/120 [==============================] - 0s 2ms/step - loss: 0.1035 - acc: 0.9917\n",
      "Epoch 91/100\n",
      "120/120 [==============================] - 0s 2ms/step - loss: 0.1101 - acc: 0.9750\n",
      "Epoch 92/100\n",
      "120/120 [==============================] - 0s 2ms/step - loss: 0.1061 - acc: 0.9833\n",
      "Epoch 93/100\n",
      "120/120 [==============================] - 0s 2ms/step - loss: 0.1141 - acc: 0.9833\n",
      "Epoch 94/100\n",
      "120/120 [==============================] - 0s 2ms/step - loss: 0.1042 - acc: 0.9833\n",
      "Epoch 95/100\n",
      "120/120 [==============================] - 0s 2ms/step - loss: 0.1123 - acc: 0.9833\n",
      "Epoch 96/100\n",
      "120/120 [==============================] - 0s 2ms/step - loss: 0.1108 - acc: 0.9833\n",
      "Epoch 97/100\n",
      "120/120 [==============================] - 0s 2ms/step - loss: 0.1083 - acc: 0.9667\n",
      "Epoch 98/100\n",
      "120/120 [==============================] - 0s 2ms/step - loss: 0.1054 - acc: 0.9750\n",
      "Epoch 99/100\n",
      "120/120 [==============================] - 0s 2ms/step - loss: 0.1067 - acc: 0.9833\n",
      "Epoch 100/100\n",
      "120/120 [==============================] - 0s 2ms/step - loss: 0.1045 - acc: 0.9750\n"
     ]
    }
   ],
   "source": [
    "history = model2.fit(X_train, train_y_ohe, nb_epoch=100, batch_size=1, verbose=1);"
   ]
  },
  {
   "cell_type": "code",
   "execution_count": 50,
   "metadata": {},
   "outputs": [
    {
     "name": "stdout",
     "output_type": "stream",
     "text": [
      "30/30 [==============================] - 0s 741us/step\n",
      "Accuracy = 0.90\n"
     ]
    }
   ],
   "source": [
    "loss, accuracy = model2.evaluate(X_validation, validation_y_ohe, verbose=1)\n",
    "print(\"Accuracy = {:.2f}\".format(accuracy))"
   ]
  },
  {
   "cell_type": "code",
   "execution_count": 51,
   "metadata": {},
   "outputs": [
    {
     "name": "stdout",
     "output_type": "stream",
     "text": [
      "Train on 120 samples, validate on 30 samples\n",
      "Epoch 1/50\n",
      "120/120 [==============================] - 0s 2ms/step - loss: 0.1028 - acc: 0.9833 - val_loss: 0.2563 - val_acc: 0.9000\n",
      "Epoch 2/50\n",
      "120/120 [==============================] - 0s 2ms/step - loss: 0.1064 - acc: 0.9833 - val_loss: 0.2164 - val_acc: 0.9000\n",
      "Epoch 3/50\n",
      "120/120 [==============================] - 0s 2ms/step - loss: 0.1095 - acc: 0.9833 - val_loss: 0.2678 - val_acc: 0.8667\n",
      "Epoch 4/50\n",
      "120/120 [==============================] - 0s 2ms/step - loss: 0.1087 - acc: 0.9917 - val_loss: 0.2125 - val_acc: 0.9333\n",
      "Epoch 5/50\n",
      "120/120 [==============================] - 0s 2ms/step - loss: 0.1045 - acc: 0.9833 - val_loss: 0.1965 - val_acc: 0.9000\n",
      "Epoch 6/50\n",
      "120/120 [==============================] - 0s 2ms/step - loss: 0.1078 - acc: 0.9833 - val_loss: 0.2017 - val_acc: 0.9000\n",
      "Epoch 7/50\n",
      "120/120 [==============================] - 0s 2ms/step - loss: 0.1040 - acc: 0.9833 - val_loss: 0.2337 - val_acc: 0.9000\n",
      "Epoch 8/50\n",
      "120/120 [==============================] - 0s 2ms/step - loss: 0.1064 - acc: 0.9750 - val_loss: 0.1942 - val_acc: 0.9000\n",
      "Epoch 9/50\n",
      "120/120 [==============================] - 0s 2ms/step - loss: 0.1027 - acc: 0.9917 - val_loss: 0.1967 - val_acc: 0.9333\n",
      "Epoch 10/50\n",
      "120/120 [==============================] - 0s 2ms/step - loss: 0.1005 - acc: 0.9833 - val_loss: 0.1985 - val_acc: 0.9000\n",
      "Epoch 11/50\n",
      "120/120 [==============================] - 0s 2ms/step - loss: 0.1010 - acc: 0.9917 - val_loss: 0.1933 - val_acc: 0.9333\n",
      "Epoch 12/50\n",
      "120/120 [==============================] - 0s 2ms/step - loss: 0.1047 - acc: 0.9833 - val_loss: 0.1994 - val_acc: 0.9000\n",
      "Epoch 13/50\n",
      "120/120 [==============================] - 0s 2ms/step - loss: 0.0807 - acc: 0.9833 - val_loss: 0.2679 - val_acc: 0.9000\n",
      "Epoch 14/50\n",
      "120/120 [==============================] - 0s 2ms/step - loss: 0.1022 - acc: 0.9833 - val_loss: 0.2449 - val_acc: 0.9000\n",
      "Epoch 15/50\n",
      "120/120 [==============================] - 0s 2ms/step - loss: 0.1007 - acc: 0.9750 - val_loss: 0.1932 - val_acc: 0.9000\n",
      "Epoch 16/50\n",
      "120/120 [==============================] - 0s 3ms/step - loss: 0.0929 - acc: 0.9917 - val_loss: 0.1935 - val_acc: 0.9333\n",
      "Epoch 17/50\n",
      "120/120 [==============================] - 0s 2ms/step - loss: 0.1037 - acc: 0.9750 - val_loss: 0.2024 - val_acc: 0.9000\n",
      "Epoch 18/50\n",
      "120/120 [==============================] - 0s 2ms/step - loss: 0.1013 - acc: 0.9750 - val_loss: 0.1950 - val_acc: 0.9000\n",
      "Epoch 19/50\n",
      "120/120 [==============================] - 0s 2ms/step - loss: 0.0951 - acc: 0.9833 - val_loss: 0.2820 - val_acc: 0.8667\n",
      "Epoch 20/50\n",
      "120/120 [==============================] - 0s 3ms/step - loss: 0.0964 - acc: 0.9833 - val_loss: 0.1911 - val_acc: 0.9333\n",
      "Epoch 21/50\n",
      "120/120 [==============================] - 0s 2ms/step - loss: 0.1013 - acc: 0.9667 - val_loss: 0.2150 - val_acc: 0.9000\n",
      "Epoch 22/50\n",
      "120/120 [==============================] - 0s 2ms/step - loss: 0.1018 - acc: 0.9750 - val_loss: 0.2152 - val_acc: 0.9000\n",
      "Epoch 23/50\n",
      "120/120 [==============================] - 0s 2ms/step - loss: 0.0917 - acc: 0.9833 - val_loss: 0.1897 - val_acc: 0.9000\n",
      "Epoch 24/50\n",
      "120/120 [==============================] - 0s 2ms/step - loss: 0.0928 - acc: 0.9833 - val_loss: 0.2112 - val_acc: 0.9000\n",
      "Epoch 25/50\n",
      "120/120 [==============================] - 0s 2ms/step - loss: 0.0959 - acc: 0.9833 - val_loss: 0.2578 - val_acc: 0.9000\n",
      "Epoch 26/50\n",
      "120/120 [==============================] - 0s 2ms/step - loss: 0.0957 - acc: 0.9833 - val_loss: 0.1934 - val_acc: 0.9333\n",
      "Epoch 27/50\n",
      "120/120 [==============================] - 0s 3ms/step - loss: 0.0990 - acc: 0.9750 - val_loss: 0.2191 - val_acc: 0.9000\n",
      "Epoch 28/50\n",
      "120/120 [==============================] - 0s 2ms/step - loss: 0.0896 - acc: 0.9833 - val_loss: 0.2036 - val_acc: 0.9333\n",
      "Epoch 29/50\n",
      "120/120 [==============================] - 0s 2ms/step - loss: 0.0958 - acc: 0.9833 - val_loss: 0.2125 - val_acc: 0.9000\n",
      "Epoch 30/50\n",
      "120/120 [==============================] - 0s 2ms/step - loss: 0.0935 - acc: 0.9917 - val_loss: 0.2048 - val_acc: 0.9333\n",
      "Epoch 31/50\n",
      "120/120 [==============================] - 0s 2ms/step - loss: 0.0945 - acc: 0.9917 - val_loss: 0.2284 - val_acc: 0.9000\n",
      "Epoch 32/50\n",
      "120/120 [==============================] - 0s 2ms/step - loss: 0.0938 - acc: 0.9917 - val_loss: 0.2039 - val_acc: 0.9333\n",
      "Epoch 33/50\n",
      "120/120 [==============================] - 0s 3ms/step - loss: 0.0930 - acc: 0.9917 - val_loss: 0.2543 - val_acc: 0.9000\n",
      "Epoch 34/50\n",
      "120/120 [==============================] - 0s 2ms/step - loss: 0.0963 - acc: 0.9833 - val_loss: 0.1950 - val_acc: 0.9000\n",
      "Epoch 35/50\n",
      "120/120 [==============================] - 0s 2ms/step - loss: 0.0940 - acc: 0.9917 - val_loss: 0.2183 - val_acc: 0.9000\n",
      "Epoch 36/50\n",
      "120/120 [==============================] - 0s 2ms/step - loss: 0.0957 - acc: 0.9833 - val_loss: 0.1949 - val_acc: 0.9000\n",
      "Epoch 37/50\n",
      "120/120 [==============================] - 0s 2ms/step - loss: 0.0915 - acc: 0.9750 - val_loss: 0.1900 - val_acc: 0.9000\n",
      "Epoch 38/50\n",
      "120/120 [==============================] - 0s 2ms/step - loss: 0.0874 - acc: 0.9917 - val_loss: 0.2725 - val_acc: 0.8667\n",
      "Epoch 39/50\n",
      "120/120 [==============================] - 0s 2ms/step - loss: 0.0941 - acc: 0.9833 - val_loss: 0.1971 - val_acc: 0.9000\n",
      "Epoch 40/50\n",
      "120/120 [==============================] - 0s 2ms/step - loss: 0.0849 - acc: 0.9750 - val_loss: 0.2954 - val_acc: 0.8667\n",
      "Epoch 41/50\n",
      "120/120 [==============================] - 0s 2ms/step - loss: 0.0946 - acc: 0.9750 - val_loss: 0.2467 - val_acc: 0.9000\n",
      "Epoch 42/50\n",
      "120/120 [==============================] - 0s 2ms/step - loss: 0.0921 - acc: 0.9833 - val_loss: 0.1856 - val_acc: 0.9000\n",
      "Epoch 43/50\n",
      "120/120 [==============================] - 0s 2ms/step - loss: 0.0882 - acc: 0.9833 - val_loss: 0.1927 - val_acc: 0.9000\n",
      "Epoch 44/50\n",
      "120/120 [==============================] - 0s 2ms/step - loss: 0.0915 - acc: 0.9917 - val_loss: 0.1844 - val_acc: 0.9333\n",
      "Epoch 45/50\n",
      "120/120 [==============================] - 0s 2ms/step - loss: 0.0944 - acc: 0.9750 - val_loss: 0.1971 - val_acc: 0.9000\n",
      "Epoch 46/50\n",
      "120/120 [==============================] - 0s 2ms/step - loss: 0.0925 - acc: 0.9917 - val_loss: 0.2154 - val_acc: 0.9000\n",
      "Epoch 47/50\n",
      "120/120 [==============================] - ETA: 0s - loss: 0.0733 - acc: 0.990 - 0s 2ms/step - loss: 0.0857 - acc: 0.9833 - val_loss: 0.2055 - val_acc: 0.9333\n",
      "Epoch 48/50\n",
      "120/120 [==============================] - 0s 2ms/step - loss: 0.0905 - acc: 0.9667 - val_loss: 0.2575 - val_acc: 0.9000\n",
      "Epoch 49/50\n",
      "120/120 [==============================] - ETA: 0s - loss: 0.0862 - acc: 0.980 - 0s 2ms/step - loss: 0.0882 - acc: 0.9750 - val_loss: 0.2336 - val_acc: 0.9000\n",
      "Epoch 50/50\n",
      "120/120 [==============================] - 0s 2ms/step - loss: 0.0906 - acc: 0.9917 - val_loss: 0.2447 - val_acc: 0.9000\n"
     ]
    }
   ],
   "source": [
    "history = model2.fit(X_train, \n",
    "                     train_y_ohe,\n",
    "                     epochs=50, \n",
    "                     batch_size=1, \n",
    "                     verbose=1,\n",
    "                    validation_data=(X_validation, validation_y_ohe))\n",
    "\n",
    "\n",
    " "
   ]
  },
  {
   "cell_type": "code",
   "execution_count": 52,
   "metadata": {},
   "outputs": [
    {
     "data": {
      "text/plain": [
       "['acc', 'loss', 'val_acc', 'val_loss']"
      ]
     },
     "execution_count": 52,
     "metadata": {},
     "output_type": "execute_result"
    }
   ],
   "source": [
    "history_dict = history.history\n",
    "history_dict.keys()"
   ]
  },
  {
   "cell_type": "code",
   "execution_count": 53,
   "metadata": {},
   "outputs": [
    {
     "data": {
      "image/png": "[encoded data removed]",
      "text/plain": [
       "<matplotlib.figure.Figure at 0x119ee3ad0>"
      ]
     },
     "metadata": {},
     "output_type": "display_data"
    }
   ],
   "source": [
    "acc = history.history['acc']\n",
    "#acc = history.history['val_binary_accuracy'] \n",
    "\n",
    "val_acc = history.history['val_acc']\n",
    "#val_acc = history.history['binary_accuracy']\n",
    "\n",
    "loss = history.history['loss']\n",
    "val_loss = history.history['val_loss']\n",
    "\n",
    "epochs = range(1, len(acc) + 1)\n",
    "\n",
    "# \"bo\" is for \"blue dot\"\n",
    "plt.plot(epochs, loss, 'bo', label='Training loss')\n",
    "# b is for \"solid blue line\"\n",
    "plt.plot(epochs, val_loss, 'b', label='Validation loss')\n",
    "plt.title('Training and validation loss')\n",
    "plt.xlabel('Epochs')\n",
    "plt.ylabel('Loss')\n",
    "plt.legend()\n",
    "\n",
    "plt.show()"
   ]
  },
  {
   "cell_type": "code",
   "execution_count": 54,
   "metadata": {},
   "outputs": [
    {
     "data": {
      "image/png": "[encoded data removed]",
      "text/plain": [
       "<matplotlib.figure.Figure at 0x119ee3810>"
      ]
     },
     "metadata": {},
     "output_type": "display_data"
    }
   ],
   "source": [
    "plt.clf()   # clear figure\n",
    "\n",
    "acc_values = history_dict['acc']\n",
    " \n",
    "#acc_values = history.history['val_binary_accuracy'] \n",
    "\n",
    "val_acc_values = history_dict['val_acc']\n",
    "#val_acc_values = history.history['binary_accuracy']\n",
    "\n",
    "plt.plot(epochs, acc, 'bo', label='Training acc')\n",
    "plt.plot(epochs, val_acc, 'b', label='Validation acc')\n",
    "plt.title('Training and validation accuracy')\n",
    "plt.xlabel('Epochs')\n",
    "plt.ylabel('Loss')\n",
    "plt.legend()\n",
    "\n",
    "plt.show()"
   ]
  },
  {
   "cell_type": "code",
   "execution_count": 55,
   "metadata": {},
   "outputs": [
    {
     "data": {
      "text/plain": [
       "0.9916666666666667"
      ]
     },
     "execution_count": 55,
     "metadata": {},
     "output_type": "execute_result"
    }
   ],
   "source": [
    "acc_values[-1]"
   ]
  },
  {
   "cell_type": "code",
   "execution_count": 56,
   "metadata": {},
   "outputs": [
    {
     "data": {
      "text/plain": [
       "0.9"
      ]
     },
     "execution_count": 56,
     "metadata": {},
     "output_type": "execute_result"
    }
   ],
   "source": [
    "val_acc[-1]"
   ]
  },
  {
   "cell_type": "code",
   "execution_count": null,
   "metadata": {
    "collapsed": true
   },
   "outputs": [],
   "source": []
  },
  {
   "cell_type": "code",
   "execution_count": null,
   "metadata": {
    "collapsed": true
   },
   "outputs": [],
   "source": []
  }
 ],
 "metadata": {
  "kernelspec": {
   "display_name": "Python 2",
   "language": "python",
   "name": "python2"
  },
  "language_info": {
   "codemirror_mode": {
    "name": "ipython",
    "version": 2
   },
   "file_extension": ".py",
   "mimetype": "text/x-python",
   "name": "python",
   "nbconvert_exporter": "python",
   "pygments_lexer": "ipython2",
   "version": "2.7.14"
  }
 },
 "nbformat": 4,
 "nbformat_minor": 1
}
